{
 "cells": [
  {
   "cell_type": "code",
   "execution_count": 1,
   "metadata": {},
   "outputs": [],
   "source": [
    "from src.utils.preprocess import TextCleaner"
   ]
  },
  {
   "cell_type": "code",
   "execution_count": 1,
   "metadata": {},
   "outputs": [],
   "source": [
    "#import pandas as pd\n",
    "#from sklearn.feature_extraction.text import CountVectorizer\n",
    "from src.utils.preprocess import TextCleaner\n",
    "import pandas as pd\n",
    "data = pd.read_csv(\"data/news.csv\")"
   ]
  },
  {
   "cell_type": "code",
   "execution_count": 6,
   "metadata": {},
   "outputs": [
    {
     "ename": "NameError",
     "evalue": "name 'pd' is not defined",
     "output_type": "error",
     "traceback": [
      "\u001b[0;31m---------------------------------------------------------------------------\u001b[0m",
      "\u001b[0;31mNameError\u001b[0m                                 Traceback (most recent call last)",
      "\u001b[0;32m<ipython-input-6-a49d5e584bd7>\u001b[0m in \u001b[0;36m<module>\u001b[0;34m\u001b[0m\n\u001b[0;32m----> 1\u001b[0;31m \u001b[0marticles\u001b[0m \u001b[0;34m=\u001b[0m \u001b[0mpd\u001b[0m\u001b[0;34m.\u001b[0m\u001b[0mread_csv\u001b[0m\u001b[0;34m(\u001b[0m\u001b[0;34m\"data/articles.csv\"\u001b[0m\u001b[0;34m)\u001b[0m\u001b[0;34m\u001b[0m\u001b[0;34m\u001b[0m\u001b[0m\n\u001b[0m\u001b[1;32m      2\u001b[0m \u001b[0marticles_text\u001b[0m \u001b[0;34m=\u001b[0m \u001b[0marticles\u001b[0m\u001b[0;34m[\u001b[0m\u001b[0;34m[\u001b[0m\u001b[0;34m'title'\u001b[0m\u001b[0;34m,\u001b[0m \u001b[0;34m'text'\u001b[0m\u001b[0;34m]\u001b[0m\u001b[0;34m]\u001b[0m\u001b[0;34m.\u001b[0m\u001b[0mfillna\u001b[0m\u001b[0;34m(\u001b[0m\u001b[0;34m''\u001b[0m\u001b[0;34m)\u001b[0m\u001b[0;34m.\u001b[0m\u001b[0mapply\u001b[0m\u001b[0;34m(\u001b[0m\u001b[0;32mlambda\u001b[0m \u001b[0mx\u001b[0m\u001b[0;34m:\u001b[0m \u001b[0;34m' '\u001b[0m\u001b[0;34m.\u001b[0m\u001b[0mjoin\u001b[0m\u001b[0;34m(\u001b[0m\u001b[0mx\u001b[0m\u001b[0;34m)\u001b[0m\u001b[0;34m,\u001b[0m \u001b[0maxis\u001b[0m\u001b[0;34m=\u001b[0m\u001b[0;36m1\u001b[0m\u001b[0;34m)\u001b[0m\u001b[0;34m\u001b[0m\u001b[0;34m\u001b[0m\u001b[0m\n",
      "\u001b[0;31mNameError\u001b[0m: name 'pd' is not defined"
     ]
    }
   ],
   "source": [
    "articles = pd.read_csv(\"data/articles.csv\")\n",
    "articles_text = articles[['title', 'text']].fillna('').apply(lambda x: ' '.join(x), axis=1)"
   ]
  },
  {
   "cell_type": "code",
   "execution_count": 5,
   "metadata": {},
   "outputs": [
    {
     "data": {
      "text/plain": [
       "\u001b[0;31mType:\u001b[0m        TextCleaner\n",
       "\u001b[0;31mString form:\u001b[0m <src.utils.preprocess.TextCleaner object at 0x7f23367f2100>\n",
       "\u001b[0;31mFile:\u001b[0m        ~/Documents/nlp_blog/src/utils/preprocess.py\n",
       "\u001b[0;31mDocstring:\u001b[0m   <no docstring>\n"
      ]
     },
     "metadata": {},
     "output_type": "display_data"
    }
   ],
   "source": [
    "Cleaner?"
   ]
  },
  {
   "cell_type": "code",
   "execution_count": 7,
   "metadata": {},
   "outputs": [
    {
     "ename": "TypeError",
     "evalue": "cleaner_html() missing 1 required positional argument: 'self'",
     "output_type": "error",
     "traceback": [
      "\u001b[0;31m---------------------------------------------------------------------------\u001b[0m",
      "\u001b[0;31mTypeError\u001b[0m                                 Traceback (most recent call last)",
      "\u001b[0;32m<ipython-input-7-c932ec904789>\u001b[0m in \u001b[0;36m<module>\u001b[0;34m\u001b[0m\n\u001b[0;32m----> 1\u001b[0;31m \u001b[0mCleaner\u001b[0m\u001b[0;34m.\u001b[0m\u001b[0mtransform\u001b[0m\u001b[0;34m(\u001b[0m\u001b[0mtext\u001b[0m\u001b[0;34m)\u001b[0m\u001b[0;34m\u001b[0m\u001b[0;34m\u001b[0m\u001b[0m\n\u001b[0m",
      "\u001b[0;32m~/Documents/nlp_blog/src/utils/preprocess.py\u001b[0m in \u001b[0;36mtransform\u001b[0;34m(self, text, pontuction, accents, numbers, stopwors, html)\u001b[0m\n\u001b[1;32m     60\u001b[0m     \u001b[0;34m@\u001b[0m\u001b[0mclassmethod\u001b[0m\u001b[0;34m\u001b[0m\u001b[0;34m\u001b[0m\u001b[0m\n\u001b[1;32m     61\u001b[0m     \u001b[0;32mdef\u001b[0m \u001b[0mtransform\u001b[0m\u001b[0;34m(\u001b[0m\u001b[0mself\u001b[0m\u001b[0;34m,\u001b[0m \u001b[0mtext\u001b[0m\u001b[0;34m,\u001b[0m \u001b[0mpontuction\u001b[0m\u001b[0;34m=\u001b[0m\u001b[0;32mTrue\u001b[0m\u001b[0;34m,\u001b[0m \u001b[0maccents\u001b[0m\u001b[0;34m=\u001b[0m\u001b[0;32mTrue\u001b[0m\u001b[0;34m,\u001b[0m \u001b[0mnumbers\u001b[0m\u001b[0;34m=\u001b[0m\u001b[0;32mTrue\u001b[0m\u001b[0;34m,\u001b[0m \u001b[0mstopwors\u001b[0m\u001b[0;34m=\u001b[0m\u001b[0;32mTrue\u001b[0m\u001b[0;34m,\u001b[0m \u001b[0mhtml\u001b[0m\u001b[0;34m=\u001b[0m\u001b[0;32mTrue\u001b[0m\u001b[0;34m)\u001b[0m\u001b[0;34m:\u001b[0m\u001b[0;34m\u001b[0m\u001b[0;34m\u001b[0m\u001b[0m\n\u001b[0;32m---> 62\u001b[0;31m         \u001b[0;32mif\u001b[0m \u001b[0mhtml\u001b[0m\u001b[0;34m:\u001b[0m \u001b[0mtext\u001b[0m \u001b[0;34m=\u001b[0m \u001b[0mself\u001b[0m\u001b[0;34m.\u001b[0m\u001b[0mcleaner_html\u001b[0m\u001b[0;34m(\u001b[0m\u001b[0mtext\u001b[0m\u001b[0;34m=\u001b[0m\u001b[0mtext\u001b[0m\u001b[0;34m)\u001b[0m\u001b[0;34m\u001b[0m\u001b[0;34m\u001b[0m\u001b[0m\n\u001b[0m\u001b[1;32m     63\u001b[0m         \u001b[0;32mif\u001b[0m \u001b[0mstop_words\u001b[0m\u001b[0;34m:\u001b[0m \u001b[0mtext\u001b[0m \u001b[0;34m=\u001b[0m \u001b[0mself\u001b[0m\u001b[0;34m.\u001b[0m\u001b[0mstrip_stopwords\u001b[0m\u001b[0;34m(\u001b[0m\u001b[0mtext\u001b[0m\u001b[0;34m=\u001b[0m\u001b[0mtext\u001b[0m\u001b[0;34m)\u001b[0m\u001b[0;34m\u001b[0m\u001b[0;34m\u001b[0m\u001b[0m\n\u001b[1;32m     64\u001b[0m         \u001b[0;32mif\u001b[0m \u001b[0mpontuction\u001b[0m\u001b[0;34m:\u001b[0m \u001b[0mtext\u001b[0m \u001b[0;34m=\u001b[0m \u001b[0mself\u001b[0m\u001b[0;34m.\u001b[0m\u001b[0mstrip_punctuation\u001b[0m\u001b[0;34m(\u001b[0m\u001b[0mtext\u001b[0m\u001b[0;34m)\u001b[0m\u001b[0;34m\u001b[0m\u001b[0;34m\u001b[0m\u001b[0m\n",
      "\u001b[0;31mTypeError\u001b[0m: cleaner_html() missing 1 required positional argument: 'self'"
     ]
    }
   ],
   "source": [
    "Cleaner.transform(text)"
   ]
  },
  {
   "cell_type": "code",
   "execution_count": 4,
   "metadata": {},
   "outputs": [],
   "source": []
  },
  {
   "cell_type": "code",
   "execution_count": 3,
   "metadata": {},
   "outputs": [
    {
     "data": {
      "text/plain": [
       "'<p>Título: <b>CPI PODERÁ OUVIR DE NOVO EX-MINISTRO</b><br/>\\r\\nAutor: Cristiane Jungblut, Jailton de Carvalho e Demétrio<br/>\\r\\nFonte: O Globo, 03/04/2006, O País, p. 3</p>\\r\\n<p>Oposição está disposta a convocar Palocci e espera esclarecimentos de Bastos</p><p>\\r\\nBRASÍLIA. A oposição vai esperar o depoimento do ex-ministro da Fazenda Antonio Palocci à Polícia Federal, na quarta-feira, mas já anunciava ontem a disposição de convocá-lo para voltar à CPI dos Bingos, caso insista que não teve participação na quebra ilegal do sigilo bancário do caseiro Francenildo Costa. Postura mais cautelosa foi adotada em relação ao ministro da Justiça, Márcio Thomaz Bastos, diante da revelação de que dois assessores seus estiveram na casa de Palocci antes da divulgação do extrato. Parlamentares de oposição acham que é preciso esclarecer o caso e esperam que Bastos faça isso.</p><p></p><p>¿ Temos que esperar o depoimento de Palocci na PF. Se ele insistir em mentir, cabe à CPI convocá-lo. O ministro Thomaz Bastos também tem o dever de vir a público esclarecer o envolvimento direto de assessores dele ¿ disse o senador Álvaro Dias (PSDB-PR).</p><p></p><p>Para o deputado ACM Neto (PFL-BA), não há dúvidas de que Palocci ordenou a quebra do sigilo do caseiro:</p><p></p><p>¿ A situação é grave. Depois que Palocci saiu do ministério sua situação deixou de ser caso de política para ser caso de polícia.</p><p></p><p>Para ele, a CPI dos Bingos tem que investigar a quebra de sigilo do caseiro até o fim:</p><p></p><p>¿ A comissão já decidiu pela convocação de Jorge Mattoso e, se houver dúvida sobre o caso, devem chamar Palocci. O episódio está cada vez mais próximo do ministro. </p><p>¿Se tudo se confirmar, vai ser uma \\r\\ncoisa mais grave¿, diz Garibaldi</p><p>O relator da CPI dos Bingos, senador Garibaldi Alves (PMDB-RN), acha que é preciso investigar o que exatamente faziam na casa de Palocci o secretário de Direito Econômico do Ministério da Justiça, Daniel Goldberg, e o chefe de Gabinete de Bastos, Claudio Alencar, nas 24 horas que antecederam a divulgação do extrato bancário do caseiro Francenildo.</p><p></p><p>¿ É preciso apurar para ver realmente o que estava fazendo esse senhor (Goldberg). Se tudo se confirmar, vai ser uma coisa mais grave, o envolvimento assim do próprio Ministério da Justiça ¿ disse Garibaldi.</p><p></p><p>¿ O Ministério da Justiça virou escritório de advocacia criminal. A CPI dos Bingos tem de continuar investigando. Não me surpreende que Palocci tenha ordenado a quebra do sigilo ¿ disse o deputado Eduardo Paes (PSDB-RJ).</p><p></p><p>O presidente da CPI dos Bingos, senador Efraim Morais (PFL-PB), disse que a comissão não deverá alterar seu cronograma. Amanhã está prevista acareação entre o presidente do Sebrae, Paulo Okamotto, e o ex-secretário de Finanças de São José dos Campos (SP) Paulo de Tarso Venceslau, que acusa Okamotto de envolvimento com caixa dois em prefeituras petistas. Até quarta-feira, a CPI deverá votar requerimento convocando o ex-presidente da Caixa Econômica Jorge Mattoso. </p><p>Cauteloso sobre as providências que a CPI poderá tomar, Efraim falou da expectativa sobre o depoimento de Palocci e da necessidade de mais detalhes sobre a presença de assessores do Ministério da Justiça na casa dele:</p><p></p><p>¿ Vamos aguardar os fatos para decidir qual é a linha. Vamos dissecar as notícias.</p><p></p><p>Para Álvaro Dias, a trama para violar o sigilo do caseiro passa pelo Planalto, o que levantaria a possibilidade de envolvimento do presidente Lula. Palocci estava no Planalto quando teria dado a ordem para Mattoso levantar a movimentação financeira de Francenildo.</p><p></p><p>¿ O importante em tudo isso é que, nesses dias, Palocci estava despachando no Planalto, o que nos dá a impressão de que Lula sabia ¿ disse Dias, ressalvando, porém, que a PF tem agido com total independência.(Demétrio Weber, Cristiane Jungblut e Martha Beck)</p>'"
      ]
     },
     "execution_count": 3,
     "metadata": {},
     "output_type": "execute_result"
    }
   ],
   "source": [
    "text"
   ]
  },
  {
   "cell_type": "code",
   "execution_count": 1,
   "metadata": {},
   "outputs": [],
   "source": [
    "text = '<p>Título: <b>CPI PODERÁ OUVIR DE NOVO EX-MINISTRO</b><br/>\\r\\nAutor: Cristiane Jungblut, Jailton de Carvalho e Demétrio<br/>\\r\\nFonte: O Globo, 03/04/2006, O País, p. 3</p>\\r\\n<p>Oposição está disposta a convocar Palocci e espera esclarecimentos de Bastos</p><p>\\r\\nBRASÍLIA. A oposição vai esperar o depoimento do ex-ministro da Fazenda Antonio Palocci à Polícia Federal, na quarta-feira, mas já anunciava ontem a disposição de convocá-lo para voltar à CPI dos Bingos, caso insista que não teve participação na quebra ilegal do sigilo bancário do caseiro Francenildo Costa. Postura mais cautelosa foi adotada em relação ao ministro da Justiça, Márcio Thomaz Bastos, diante da revelação de que dois assessores seus estiveram na casa de Palocci antes da divulgação do extrato. Parlamentares de oposição acham que é preciso esclarecer o caso e esperam que Bastos faça isso.</p><p></p><p>¿ Temos que esperar o depoimento de Palocci na PF. Se ele insistir em mentir, cabe à CPI convocá-lo. O ministro Thomaz Bastos também tem o dever de vir a público esclarecer o envolvimento direto de assessores dele ¿ disse o senador Álvaro Dias (PSDB-PR).</p><p></p><p>Para o deputado ACM Neto (PFL-BA), não há dúvidas de que Palocci ordenou a quebra do sigilo do caseiro:</p><p></p><p>¿ A situação é grave. Depois que Palocci saiu do ministério sua situação deixou de ser caso de política para ser caso de polícia.</p><p></p><p>Para ele, a CPI dos Bingos tem que investigar a quebra de sigilo do caseiro até o fim:</p><p></p><p>¿ A comissão já decidiu pela convocação de Jorge Mattoso e, se houver dúvida sobre o caso, devem chamar Palocci. O episódio está cada vez mais próximo do ministro. </p><p>¿Se tudo se confirmar, vai ser uma \\r\\ncoisa mais grave¿, diz Garibaldi</p><p>O relator da CPI dos Bingos, senador Garibaldi Alves (PMDB-RN), acha que é preciso investigar o que exatamente faziam na casa de Palocci o secretário de Direito Econômico do Ministério da Justiça, Daniel Goldberg, e o chefe de Gabinete de Bastos, Claudio Alencar, nas 24 horas que antecederam a divulgação do extrato bancário do caseiro Francenildo.</p><p></p><p>¿ É preciso apurar para ver realmente o que estava fazendo esse senhor (Goldberg). Se tudo se confirmar, vai ser uma coisa mais grave, o envolvimento assim do próprio Ministério da Justiça ¿ disse Garibaldi.</p><p></p><p>¿ O Ministério da Justiça virou escritório de advocacia criminal. A CPI dos Bingos tem de continuar investigando. Não me surpreende que Palocci tenha ordenado a quebra do sigilo ¿ disse o deputado Eduardo Paes (PSDB-RJ).</p><p></p><p>O presidente da CPI dos Bingos, senador Efraim Morais (PFL-PB), disse que a comissão não deverá alterar seu cronograma. Amanhã está prevista acareação entre o presidente do Sebrae, Paulo Okamotto, e o ex-secretário de Finanças de São José dos Campos (SP) Paulo de Tarso Venceslau, que acusa Okamotto de envolvimento com caixa dois em prefeituras petistas. Até quarta-feira, a CPI deverá votar requerimento convocando o ex-presidente da Caixa Econômica Jorge Mattoso. </p><p>Cauteloso sobre as providências que a CPI poderá tomar, Efraim falou da expectativa sobre o depoimento de Palocci e da necessidade de mais detalhes sobre a presença de assessores do Ministério da Justiça na casa dele:</p><p></p><p>¿ Vamos aguardar os fatos para decidir qual é a linha. Vamos dissecar as notícias.</p><p></p><p>Para Álvaro Dias, a trama para violar o sigilo do caseiro passa pelo Planalto, o que levantaria a possibilidade de envolvimento do presidente Lula. Palocci estava no Planalto quando teria dado a ordem para Mattoso levantar a movimentação financeira de Francenildo.</p><p></p><p>¿ O importante em tudo isso é que, nesses dias, Palocci estava despachando no Planalto, o que nos dá a impressão de que Lula sabia ¿ disse Dias, ressalvando, porém, que a PF tem agido com total independência.(Demétrio Weber, Cristiane Jungblut e Martha Beck)</p>'"
   ]
  },
  {
   "cell_type": "code",
   "execution_count": null,
   "metadata": {},
   "outputs": [],
   "source": [
    "Cleaner = TextCleaner()"
   ]
  },
  {
   "cell_type": "code",
   "execution_count": 2,
   "metadata": {},
   "outputs": [],
   "source": [
    "Cleaner = TextCleaner()"
   ]
  },
  {
   "cell_type": "code",
   "execution_count": 12,
   "metadata": {},
   "outputs": [],
   "source": [
    "data2 = data.iloc[:100].copy()"
   ]
  },
  {
   "cell_type": "code",
   "execution_count": 14,
   "metadata": {},
   "outputs": [
    {
     "name": "stdout",
     "output_type": "stream",
     "text": [
      "CPU times: user 26.8 s, sys: 70.9 ms, total: 26.9 s\n",
      "Wall time: 26.9 s\n"
     ]
    }
   ],
   "source": [
    "%%time\n",
    "data2 = data.sample(10000)[['html', 'title']].fillna('').applymap(lambda x: Cleaner.transform(x))"
   ]
  },
  {
   "cell_type": "code",
   "execution_count": 19,
   "metadata": {},
   "outputs": [
    {
     "data": {
      "text/plain": [
       "id                                                   508990-1\n",
       "html        <p><span style=\"font-size:14px\">Acertou quem p...\n",
       "title               Como entender a reforma política de Cunha\n",
       "author                                                    NaN\n",
       "href                                   /bdsf/handle/id/508990\n",
       "citation        O globo, n. 29768, 06/02/2015. Opinião, p. 20\n",
       "date                                               06/02/2015\n",
       "filename                                         noticia.html\n",
       "filesize                                              4.903Kb\n",
       "filetype                                                 HTML\n",
       "filehref    /bdsf/bitstream/handle/id/508990/noticia.html?...\n",
       "Name: 49967, dtype: object"
      ]
     },
     "execution_count": 19,
     "metadata": {},
     "output_type": "execute_result"
    }
   ],
   "source": [
    "data.loc[49967]"
   ]
  },
  {
   "cell_type": "code",
   "execution_count": null,
   "metadata": {},
   "outputs": [],
   "source": [
    "data2[['html', 'title']]"
   ]
  },
  {
   "cell_type": "code",
   "execution_count": 36,
   "metadata": {},
   "outputs": [],
   "source": [
    "all_text = ' '.join(data2['html']) + ' '.join(data2['title'])"
   ]
  },
  {
   "cell_type": "code",
   "execution_count": 37,
   "metadata": {},
   "outputs": [],
   "source": [
    "tokens = pd.Series(all_text.split(\" \")).value_counts()"
   ]
  },
  {
   "cell_type": "code",
   "execution_count": null,
   "metadata": {},
   "outputs": [],
   "source": [
    "'de', 'um', "
   ]
  },
  {
   "cell_type": "code",
   "execution_count": 40,
   "metadata": {},
   "outputs": [
    {
     "data": {
      "text/plain": [
       "sua            5396\n",
       "caso           5379\n",
       "apenas         5336\n",
       "us             5119\n",
       "afirmou        5043\n",
       "tem            5032\n",
       "ministerio     5013\n",
       "porque         4984\n",
       "foi            4982\n",
       "rio            4883\n",
       "seu            4866\n",
       "parte          4645\n",
       "acordo         4615\n",
       "empresa        4606\n",
       "deve           4601\n",
       "por            4587\n",
       "ser            4577\n",
       "paises         4564\n",
       "outros         4539\n",
       "banco          4528\n",
       "dilma          4465\n",
       "fazer          4460\n",
       "alem           4425\n",
       "dia            4402\n",
       "menos          4364\n",
       "agora          4325\n",
       "setor          4294\n",
       "desde          4279\n",
       "camara         4269\n",
       "estados        4216\n",
       "ha             4212\n",
       "globo          4203\n",
       "ja             4194\n",
       "recursos       4081\n",
       "lei            4048\n",
       "crise          4045\n",
       "tres           4019\n",
       "partido        4014\n",
       "esta           3997\n",
       "todos          3955\n",
       "crescimento    3954\n",
       "grande         3944\n",
       "processo       3888\n",
       "justica        3870\n",
       "passado        3850\n",
       "pessoas        3752\n",
       "relacao        3737\n",
       "projeto        3720\n",
       "publico        3720\n",
       "economico      3717\n",
       "vez            3700\n",
       "primeiro       3678\n",
       "senado         3630\n",
       "mesmo          3630\n",
       "decisao        3615\n",
       "jose           3584\n",
       "novo           3568\n",
       "nova           3566\n",
       "aumento        3555\n",
       "fim            3547\n",
       "dtype: int64"
      ]
     },
     "execution_count": 40,
     "metadata": {},
     "output_type": "execute_result"
    }
   ],
   "source": [
    "applymap\n"
   ]
  },
  {
   "cell_type": "code",
   "execution_count": 22,
   "metadata": {},
   "outputs": [
    {
     "data": {
      "text/plain": [
       "'html title'"
      ]
     },
     "execution_count": 22,
     "metadata": {},
     "output_type": "execute_result"
    }
   ],
   "source": [
    "' '.join(data2[['html','title']])"
   ]
  },
  {
   "cell_type": "code",
   "execution_count": 27,
   "metadata": {},
   "outputs": [],
   "source": [
    "import re\n",
    "alpha = re.compile('[\\W_]+', re.UNICODE) "
   ]
  },
  {
   "cell_type": "code",
   "execution_count": 61,
   "metadata": {},
   "outputs": [],
   "source": [
    "text = ' '.join(data2.html)"
   ]
  },
  {
   "cell_type": "code",
   "execution_count": 66,
   "metadata": {},
   "outputs": [],
   "source": []
  },
  {
   "cell_type": "code",
   "execution_count": 4,
   "metadata": {},
   "outputs": [],
   "source": [
    "import re"
   ]
  },
  {
   "cell_type": "code",
   "execution_count": 10,
   "metadata": {},
   "outputs": [],
   "source": [
    "text = ' '.join(data2.html)\n",
    "tokens = text.split(' ')\n",
    "words = pd.Series(tokens).value_counts()\n",
    "words_df = pd.DataFrame({\"words\": words.index, 'freq':words.values})\n",
    "words_df['non_alpha_chars'] = words_df.words.apply(lambda x: len(re.findall(\"[^A-Za-z]\", x)))"
   ]
  },
  {
   "cell_type": "code",
   "execution_count": 11,
   "metadata": {},
   "outputs": [
    {
     "data": {
      "text/plain": [
       "0    94547\n",
       "1       20\n",
       "3       16\n",
       "2        3\n",
       "4        2\n",
       "Name: non_alpha_chars, dtype: int64"
      ]
     },
     "execution_count": 11,
     "metadata": {},
     "output_type": "execute_result"
    }
   ],
   "source": [
    "words_df.non_alpha_chars.value_counts()"
   ]
  },
  {
   "cell_type": "code",
   "execution_count": 83,
   "metadata": {},
   "outputs": [
    {
     "data": {
      "text/plain": [
       "dtype('O')"
      ]
     },
     "execution_count": 83,
     "metadata": {},
     "output_type": "execute_result"
    }
   ],
   "source": [
    "words_df.words."
   ]
  },
  {
   "cell_type": "code",
   "execution_count": 87,
   "metadata": {},
   "outputs": [],
   "source": []
  },
  {
   "cell_type": "code",
   "execution_count": 97,
   "metadata": {},
   "outputs": [
    {
     "name": "stdout",
     "output_type": "stream",
     "text": [
      "['--', \"'\", '\"', '/']\n"
     ]
    }
   ],
   "source": [
    "print(['--', str(\"'\"), '''\"''', '/'])"
   ]
  },
  {
   "cell_type": "code",
   "execution_count": null,
   "metadata": {},
   "outputs": [],
   "source": [
    "['--', str(\"'\"), '''\"''', '/']"
   ]
  },
  {
   "cell_type": "code",
   "execution_count": 102,
   "metadata": {},
   "outputs": [
    {
     "data": {
      "text/plain": [
       "'!\"#$%&\\'()*+,-./:;<=>?@[\\\\]^_`{|}~'"
      ]
     },
     "execution_count": 102,
     "metadata": {},
     "output_type": "execute_result"
    }
   ],
   "source": [
    "import string\n",
    "string.punctuation"
   ]
  },
  {
   "cell_type": "code",
   "execution_count": 13,
   "metadata": {},
   "outputs": [
    {
     "data": {
      "text/html": [
       "<div>\n",
       "<style scoped>\n",
       "    .dataframe tbody tr th:only-of-type {\n",
       "        vertical-align: middle;\n",
       "    }\n",
       "\n",
       "    .dataframe tbody tr th {\n",
       "        vertical-align: top;\n",
       "    }\n",
       "\n",
       "    .dataframe thead th {\n",
       "        text-align: right;\n",
       "    }\n",
       "</style>\n",
       "<table border=\"1\" class=\"dataframe\">\n",
       "  <thead>\n",
       "    <tr style=\"text-align: right;\">\n",
       "      <th></th>\n",
       "      <th>words</th>\n",
       "      <th>freq</th>\n",
       "      <th>non_alpha_chars</th>\n",
       "    </tr>\n",
       "  </thead>\n",
       "  <tbody>\n",
       "    <tr>\n",
       "      <th>751</th>\n",
       "      <td>-</td>\n",
       "      <td>831</td>\n",
       "      <td>1</td>\n",
       "    </tr>\n",
       "    <tr>\n",
       "      <th>17523</th>\n",
       "      <td>(c)</td>\n",
       "      <td>14</td>\n",
       "      <td>2</td>\n",
       "    </tr>\n",
       "    <tr>\n",
       "      <th>22655</th>\n",
       "      <td>*</td>\n",
       "      <td>9</td>\n",
       "      <td>1</td>\n",
       "    </tr>\n",
       "    <tr>\n",
       "      <th>25380</th>\n",
       "      <td>$?</td>\n",
       "      <td>7</td>\n",
       "      <td>2</td>\n",
       "    </tr>\n",
       "    <tr>\n",
       "      <th>51369</th>\n",
       "      <td>!dego</td>\n",
       "      <td>2</td>\n",
       "      <td>1</td>\n",
       "    </tr>\n",
       "    <tr>\n",
       "      <th>54092</th>\n",
       "      <td>#</td>\n",
       "      <td>2</td>\n",
       "      <td>1</td>\n",
       "    </tr>\n",
       "    <tr>\n",
       "      <th>57905</th>\n",
       "      <td>...</td>\n",
       "      <td>1</td>\n",
       "      <td>3</td>\n",
       "    </tr>\n",
       "    <tr>\n",
       "      <th>59585</th>\n",
       "      <td>colher!+-enquanto</td>\n",
       "      <td>1</td>\n",
       "      <td>3</td>\n",
       "    </tr>\n",
       "    <tr>\n",
       "      <th>60096</th>\n",
       "      <td>passada...</td>\n",
       "      <td>1</td>\n",
       "      <td>3</td>\n",
       "    </tr>\n",
       "    <tr>\n",
       "      <th>61973</th>\n",
       "      <td>isso...</td>\n",
       "      <td>1</td>\n",
       "      <td>3</td>\n",
       "    </tr>\n",
       "    <tr>\n",
       "      <th>62583</th>\n",
       "      <td>crianca!+-</td>\n",
       "      <td>1</td>\n",
       "      <td>3</td>\n",
       "    </tr>\n",
       "    <tr>\n",
       "      <th>63816</th>\n",
       "      <td>mourascostf-</td>\n",
       "      <td>1</td>\n",
       "      <td>1</td>\n",
       "    </tr>\n",
       "    <tr>\n",
       "      <th>64305</th>\n",
       "      <td>cunhavpr-</td>\n",
       "      <td>1</td>\n",
       "      <td>1</td>\n",
       "    </tr>\n",
       "    <tr>\n",
       "      <th>67136</th>\n",
       "      <td>saber!degonde</td>\n",
       "      <td>1</td>\n",
       "      <td>1</td>\n",
       "    </tr>\n",
       "    <tr>\n",
       "      <th>71863</th>\n",
       "      <td>trabalhadores-</td>\n",
       "      <td>1</td>\n",
       "      <td>1</td>\n",
       "    </tr>\n",
       "    <tr>\n",
       "      <th>72535</th>\n",
       "      <td>mensalao-</td>\n",
       "      <td>1</td>\n",
       "      <td>1</td>\n",
       "    </tr>\n",
       "    <tr>\n",
       "      <th>72650</th>\n",
       "      <td>sampaioestadao-</td>\n",
       "      <td>1</td>\n",
       "      <td>1</td>\n",
       "    </tr>\n",
       "    <tr>\n",
       "      <th>72714</th>\n",
       "      <td>tributaria...</td>\n",
       "      <td>1</td>\n",
       "      <td>3</td>\n",
       "    </tr>\n",
       "    <tr>\n",
       "      <th>72944</th>\n",
       "      <td>!</td>\n",
       "      <td>1</td>\n",
       "      <td>1</td>\n",
       "    </tr>\n",
       "    <tr>\n",
       "      <th>74065</th>\n",
       "      <td>!degesmola!+-</td>\n",
       "      <td>1</td>\n",
       "      <td>4</td>\n",
       "    </tr>\n",
       "    <tr>\n",
       "      <th>74139</th>\n",
       "      <td>psbpe-</td>\n",
       "      <td>1</td>\n",
       "      <td>1</td>\n",
       "    </tr>\n",
       "    <tr>\n",
       "      <th>74894</th>\n",
       "      <td>ampliada-</td>\n",
       "      <td>1</td>\n",
       "      <td>1</td>\n",
       "    </tr>\n",
       "    <tr>\n",
       "      <th>75657</th>\n",
       "      <td>!degtra</td>\n",
       "      <td>1</td>\n",
       "      <td>1</td>\n",
       "    </tr>\n",
       "    <tr>\n",
       "      <th>75782</th>\n",
       "      <td>governo!dege</td>\n",
       "      <td>1</td>\n",
       "      <td>1</td>\n",
       "    </tr>\n",
       "    <tr>\n",
       "      <th>77339</th>\n",
       "      <td>!degesmolas!+-quero</td>\n",
       "      <td>1</td>\n",
       "      <td>4</td>\n",
       "    </tr>\n",
       "    <tr>\n",
       "      <th>78003</th>\n",
       "      <td>dinheiro!+-</td>\n",
       "      <td>1</td>\n",
       "      <td>3</td>\n",
       "    </tr>\n",
       "    <tr>\n",
       "      <th>78596</th>\n",
       "      <td>messo!+-que</td>\n",
       "      <td>1</td>\n",
       "      <td>3</td>\n",
       "    </tr>\n",
       "    <tr>\n",
       "      <th>79776</th>\n",
       "      <td>!degbuarque!-s</td>\n",
       "      <td>1</td>\n",
       "      <td>3</td>\n",
       "    </tr>\n",
       "    <tr>\n",
       "      <th>79932</th>\n",
       "      <td>federais...</td>\n",
       "      <td>1</td>\n",
       "      <td>3</td>\n",
       "    </tr>\n",
       "    <tr>\n",
       "      <th>82073</th>\n",
       "      <td>orcamento!+-</td>\n",
       "      <td>1</td>\n",
       "      <td>3</td>\n",
       "    </tr>\n",
       "    <tr>\n",
       "      <th>82854</th>\n",
       "      <td>!degcorridas</td>\n",
       "      <td>1</td>\n",
       "      <td>1</td>\n",
       "    </tr>\n",
       "    <tr>\n",
       "      <th>85036</th>\n",
       "      <td>paiva&gt;&gt;</td>\n",
       "      <td>1</td>\n",
       "      <td>2</td>\n",
       "    </tr>\n",
       "    <tr>\n",
       "      <th>85482</th>\n",
       "      <td>scholarship!+-divulgado</td>\n",
       "      <td>1</td>\n",
       "      <td>3</td>\n",
       "    </tr>\n",
       "    <tr>\n",
       "      <th>89406</th>\n",
       "      <td>processos-uma</td>\n",
       "      <td>1</td>\n",
       "      <td>1</td>\n",
       "    </tr>\n",
       "    <tr>\n",
       "      <th>91209</th>\n",
       "      <td>-rapida</td>\n",
       "      <td>1</td>\n",
       "      <td>1</td>\n",
       "    </tr>\n",
       "    <tr>\n",
       "      <th>91755</th>\n",
       "      <td>responsaveis*</td>\n",
       "      <td>1</td>\n",
       "      <td>1</td>\n",
       "    </tr>\n",
       "    <tr>\n",
       "      <th>92631</th>\n",
       "      <td>distribuidores...</td>\n",
       "      <td>1</td>\n",
       "      <td>3</td>\n",
       "    </tr>\n",
       "    <tr>\n",
       "      <th>93116</th>\n",
       "      <td>cavalo!+-chegaram</td>\n",
       "      <td>1</td>\n",
       "      <td>3</td>\n",
       "    </tr>\n",
       "    <tr>\n",
       "      <th>93358</th>\n",
       "      <td>linguica...</td>\n",
       "      <td>1</td>\n",
       "      <td>3</td>\n",
       "    </tr>\n",
       "    <tr>\n",
       "      <th>93363</th>\n",
       "      <td>ministros...</td>\n",
       "      <td>1</td>\n",
       "      <td>3</td>\n",
       "    </tr>\n",
       "    <tr>\n",
       "      <th>93773</th>\n",
       "      <td>neoliberal!ujarbas</td>\n",
       "      <td>1</td>\n",
       "      <td>1</td>\n",
       "    </tr>\n",
       "  </tbody>\n",
       "</table>\n",
       "</div>"
      ],
      "text/plain": [
       "                         words  freq  non_alpha_chars\n",
       "751                          -   831                1\n",
       "17523                      (c)    14                2\n",
       "22655                        *     9                1\n",
       "25380                       $?     7                2\n",
       "51369                    !dego     2                1\n",
       "54092                        #     2                1\n",
       "57905                      ...     1                3\n",
       "59585        colher!+-enquanto     1                3\n",
       "60096               passada...     1                3\n",
       "61973                  isso...     1                3\n",
       "62583               crianca!+-     1                3\n",
       "63816             mourascostf-     1                1\n",
       "64305                cunhavpr-     1                1\n",
       "67136            saber!degonde     1                1\n",
       "71863           trabalhadores-     1                1\n",
       "72535                mensalao-     1                1\n",
       "72650          sampaioestadao-     1                1\n",
       "72714            tributaria...     1                3\n",
       "72944                        !     1                1\n",
       "74065            !degesmola!+-     1                4\n",
       "74139                   psbpe-     1                1\n",
       "74894                ampliada-     1                1\n",
       "75657                  !degtra     1                1\n",
       "75782             governo!dege     1                1\n",
       "77339      !degesmolas!+-quero     1                4\n",
       "78003              dinheiro!+-     1                3\n",
       "78596              messo!+-que     1                3\n",
       "79776           !degbuarque!-s     1                3\n",
       "79932              federais...     1                3\n",
       "82073             orcamento!+-     1                3\n",
       "82854             !degcorridas     1                1\n",
       "85036                  paiva>>     1                2\n",
       "85482  scholarship!+-divulgado     1                3\n",
       "89406            processos-uma     1                1\n",
       "91209                  -rapida     1                1\n",
       "91755            responsaveis*     1                1\n",
       "92631        distribuidores...     1                3\n",
       "93116        cavalo!+-chegaram     1                3\n",
       "93358              linguica...     1                3\n",
       "93363             ministros...     1                3\n",
       "93773       neoliberal!ujarbas     1                1"
      ]
     },
     "execution_count": 13,
     "metadata": {},
     "output_type": "execute_result"
    }
   ],
   "source": [
    "words_df.query(\"non_alpha_chars>0\")"
   ]
  },
  {
   "cell_type": "code",
   "execution_count": 94,
   "metadata": {},
   "outputs": [
    {
     "data": {
      "text/html": [
       "<div>\n",
       "<style scoped>\n",
       "    .dataframe tbody tr th:only-of-type {\n",
       "        vertical-align: middle;\n",
       "    }\n",
       "\n",
       "    .dataframe tbody tr th {\n",
       "        vertical-align: top;\n",
       "    }\n",
       "\n",
       "    .dataframe thead th {\n",
       "        text-align: right;\n",
       "    }\n",
       "</style>\n",
       "<table border=\"1\" class=\"dataframe\">\n",
       "  <thead>\n",
       "    <tr style=\"text-align: right;\">\n",
       "      <th></th>\n",
       "      <th>words</th>\n",
       "      <th>freq</th>\n",
       "      <th>non_alpha_chars</th>\n",
       "    </tr>\n",
       "  </thead>\n",
       "  <tbody>\n",
       "    <tr>\n",
       "      <th>45</th>\n",
       "      <td>--</td>\n",
       "      <td>629</td>\n",
       "      <td>2</td>\n",
       "    </tr>\n",
       "    <tr>\n",
       "      <th>2224</th>\n",
       "      <td>\"a</td>\n",
       "      <td>27</td>\n",
       "      <td>1</td>\n",
       "    </tr>\n",
       "    <tr>\n",
       "      <th>2475</th>\n",
       "      <td>\"nao</td>\n",
       "      <td>24</td>\n",
       "      <td>1</td>\n",
       "    </tr>\n",
       "    <tr>\n",
       "      <th>2546</th>\n",
       "      <td>\"o</td>\n",
       "      <td>23</td>\n",
       "      <td>1</td>\n",
       "    </tr>\n",
       "    <tr>\n",
       "      <th>4166</th>\n",
       "      <td>\"</td>\n",
       "      <td>13</td>\n",
       "      <td>1</td>\n",
       "    </tr>\n",
       "    <tr>\n",
       "      <th>5136</th>\n",
       "      <td>--disse</td>\n",
       "      <td>10</td>\n",
       "      <td>2</td>\n",
       "    </tr>\n",
       "    <tr>\n",
       "      <th>5149</th>\n",
       "      <td>--a</td>\n",
       "      <td>10</td>\n",
       "      <td>2</td>\n",
       "    </tr>\n",
       "    <tr>\n",
       "      <th>5676</th>\n",
       "      <td>\"os</td>\n",
       "      <td>8</td>\n",
       "      <td>1</td>\n",
       "    </tr>\n",
       "    <tr>\n",
       "      <th>5698</th>\n",
       "      <td>-</td>\n",
       "      <td>8</td>\n",
       "      <td>1</td>\n",
       "    </tr>\n",
       "    <tr>\n",
       "      <th>6985</th>\n",
       "      <td>paulo\"</td>\n",
       "      <td>6</td>\n",
       "      <td>1</td>\n",
       "    </tr>\n",
       "    <tr>\n",
       "      <th>7340</th>\n",
       "      <td>nacional\"</td>\n",
       "      <td>6</td>\n",
       "      <td>1</td>\n",
       "    </tr>\n",
       "    <tr>\n",
       "      <th>7572</th>\n",
       "      <td>brasil\"</td>\n",
       "      <td>6</td>\n",
       "      <td>1</td>\n",
       "    </tr>\n",
       "    <tr>\n",
       "      <th>7784</th>\n",
       "      <td>\"as</td>\n",
       "      <td>5</td>\n",
       "      <td>1</td>\n",
       "    </tr>\n",
       "    <tr>\n",
       "      <th>7858</th>\n",
       "      <td>\"um</td>\n",
       "      <td>5</td>\n",
       "      <td>1</td>\n",
       "    </tr>\n",
       "    <tr>\n",
       "      <th>8162</th>\n",
       "      <td>--afirmou</td>\n",
       "      <td>5</td>\n",
       "      <td>2</td>\n",
       "    </tr>\n",
       "    <tr>\n",
       "      <th>8202</th>\n",
       "      <td>\"em</td>\n",
       "      <td>5</td>\n",
       "      <td>1</td>\n",
       "    </tr>\n",
       "    <tr>\n",
       "      <th>8210</th>\n",
       "      <td>mundo\"</td>\n",
       "      <td>5</td>\n",
       "      <td>1</td>\n",
       "    </tr>\n",
       "    <tr>\n",
       "      <th>8373</th>\n",
       "      <td>\"e</td>\n",
       "      <td>5</td>\n",
       "      <td>1</td>\n",
       "    </tr>\n",
       "    <tr>\n",
       "      <th>8886</th>\n",
       "      <td>\"ja</td>\n",
       "      <td>4</td>\n",
       "      <td>1</td>\n",
       "    </tr>\n",
       "    <tr>\n",
       "      <th>8905</th>\n",
       "      <td>\"jornal</td>\n",
       "      <td>4</td>\n",
       "      <td>1</td>\n",
       "    </tr>\n",
       "    <tr>\n",
       "      <th>9258</th>\n",
       "      <td>'</td>\n",
       "      <td>4</td>\n",
       "      <td>1</td>\n",
       "    </tr>\n",
       "    <tr>\n",
       "      <th>9681</th>\n",
       "      <td>\"folha</td>\n",
       "      <td>4</td>\n",
       "      <td>1</td>\n",
       "    </tr>\n",
       "    <tr>\n",
       "      <th>9835</th>\n",
       "      <td>temer\"</td>\n",
       "      <td>4</td>\n",
       "      <td>1</td>\n",
       "    </tr>\n",
       "    <tr>\n",
       "      <th>10169</th>\n",
       "      <td>pais\"</td>\n",
       "      <td>4</td>\n",
       "      <td>1</td>\n",
       "    </tr>\n",
       "    <tr>\n",
       "      <th>10280</th>\n",
       "      <td>\"el</td>\n",
       "      <td>4</td>\n",
       "      <td>1</td>\n",
       "    </tr>\n",
       "    <tr>\n",
       "      <th>10440</th>\n",
       "      <td>\"uma</td>\n",
       "      <td>3</td>\n",
       "      <td>1</td>\n",
       "    </tr>\n",
       "    <tr>\n",
       "      <th>10536</th>\n",
       "      <td>irmaos\"</td>\n",
       "      <td>3</td>\n",
       "      <td>1</td>\n",
       "    </tr>\n",
       "    <tr>\n",
       "      <th>10588</th>\n",
       "      <td>\"nos</td>\n",
       "      <td>3</td>\n",
       "      <td>1</td>\n",
       "    </tr>\n",
       "    <tr>\n",
       "      <th>10610</th>\n",
       "      <td>\"essa</td>\n",
       "      <td>3</td>\n",
       "      <td>1</td>\n",
       "    </tr>\n",
       "    <tr>\n",
       "      <th>10617</th>\n",
       "      <td>/</td>\n",
       "      <td>3</td>\n",
       "      <td>1</td>\n",
       "    </tr>\n",
       "    <tr>\n",
       "      <th>10928</th>\n",
       "      <td>eleitoral\"</td>\n",
       "      <td>3</td>\n",
       "      <td>1</td>\n",
       "    </tr>\n",
       "    <tr>\n",
       "      <th>10942</th>\n",
       "      <td>\"tres</td>\n",
       "      <td>3</td>\n",
       "      <td>1</td>\n",
       "    </tr>\n",
       "    <tr>\n",
       "      <th>11119</th>\n",
       "      <td>federal\"</td>\n",
       "      <td>3</td>\n",
       "      <td>1</td>\n",
       "    </tr>\n",
       "    <tr>\n",
       "      <th>11249</th>\n",
       "      <td>\"spirit</td>\n",
       "      <td>3</td>\n",
       "      <td>1</td>\n",
       "    </tr>\n",
       "    <tr>\n",
       "      <th>11276</th>\n",
       "      <td>\"muito</td>\n",
       "      <td>3</td>\n",
       "      <td>1</td>\n",
       "    </tr>\n",
       "    <tr>\n",
       "      <th>11414</th>\n",
       "      <td>moody's</td>\n",
       "      <td>3</td>\n",
       "      <td>1</td>\n",
       "    </tr>\n",
       "    <tr>\n",
       "      <th>11561</th>\n",
       "      <td>poor's</td>\n",
       "      <td>3</td>\n",
       "      <td>1</td>\n",
       "    </tr>\n",
       "    <tr>\n",
       "      <th>11664</th>\n",
       "      <td>privilegiado\"</td>\n",
       "      <td>3</td>\n",
       "      <td>1</td>\n",
       "    </tr>\n",
       "    <tr>\n",
       "      <th>12149</th>\n",
       "      <td>\"ha</td>\n",
       "      <td>3</td>\n",
       "      <td>1</td>\n",
       "    </tr>\n",
       "    <tr>\n",
       "      <th>12296</th>\n",
       "      <td>\"se</td>\n",
       "      <td>3</td>\n",
       "      <td>1</td>\n",
       "    </tr>\n",
       "    <tr>\n",
       "      <th>12387</th>\n",
       "      <td>--nao</td>\n",
       "      <td>3</td>\n",
       "      <td>2</td>\n",
       "    </tr>\n",
       "    <tr>\n",
       "      <th>12669</th>\n",
       "      <td>rio\"</td>\n",
       "      <td>3</td>\n",
       "      <td>1</td>\n",
       "    </tr>\n",
       "    <tr>\n",
       "      <th>12935</th>\n",
       "      <td>direito\"</td>\n",
       "      <td>2</td>\n",
       "      <td>1</td>\n",
       "    </tr>\n",
       "    <tr>\n",
       "      <th>13047</th>\n",
       "      <td>\"impeachment\"</td>\n",
       "      <td>2</td>\n",
       "      <td>2</td>\n",
       "    </tr>\n",
       "    <tr>\n",
       "      <th>13081</th>\n",
       "      <td>nacion\"</td>\n",
       "      <td>2</td>\n",
       "      <td>1</td>\n",
       "    </tr>\n",
       "    <tr>\n",
       "      <th>13217</th>\n",
       "      <td>republicana\"</td>\n",
       "      <td>2</td>\n",
       "      <td>1</td>\n",
       "    </tr>\n",
       "    <tr>\n",
       "      <th>13519</th>\n",
       "      <td>\"delacao</td>\n",
       "      <td>2</td>\n",
       "      <td>1</td>\n",
       "    </tr>\n",
       "    <tr>\n",
       "      <th>13575</th>\n",
       "      <td>\"la</td>\n",
       "      <td>2</td>\n",
       "      <td>1</td>\n",
       "    </tr>\n",
       "    <tr>\n",
       "      <th>13840</th>\n",
       "      <td>'lampeao'</td>\n",
       "      <td>2</td>\n",
       "      <td>2</td>\n",
       "    </tr>\n",
       "    <tr>\n",
       "      <th>13944</th>\n",
       "      <td>\"clarin\"</td>\n",
       "      <td>2</td>\n",
       "      <td>2</td>\n",
       "    </tr>\n",
       "    <tr>\n",
       "      <th>13984</th>\n",
       "      <td>antes\"</td>\n",
       "      <td>2</td>\n",
       "      <td>1</td>\n",
       "    </tr>\n",
       "    <tr>\n",
       "      <th>13998</th>\n",
       "      <td>\"estaria</td>\n",
       "      <td>2</td>\n",
       "      <td>1</td>\n",
       "    </tr>\n",
       "    <tr>\n",
       "      <th>14050</th>\n",
       "      <td>atroz\"</td>\n",
       "      <td>2</td>\n",
       "      <td>1</td>\n",
       "    </tr>\n",
       "    <tr>\n",
       "      <th>14056</th>\n",
       "      <td>\"dano</td>\n",
       "      <td>2</td>\n",
       "      <td>1</td>\n",
       "    </tr>\n",
       "    <tr>\n",
       "      <th>14104</th>\n",
       "      <td>investimento\"</td>\n",
       "      <td>2</td>\n",
       "      <td>1</td>\n",
       "    </tr>\n",
       "    <tr>\n",
       "      <th>14374</th>\n",
       "      <td>\"eu</td>\n",
       "      <td>2</td>\n",
       "      <td>1</td>\n",
       "    </tr>\n",
       "    <tr>\n",
       "      <th>14622</th>\n",
       "      <td>--o</td>\n",
       "      <td>2</td>\n",
       "      <td>2</td>\n",
       "    </tr>\n",
       "    <tr>\n",
       "      <th>14716</th>\n",
       "      <td>times\"</td>\n",
       "      <td>2</td>\n",
       "      <td>1</td>\n",
       "    </tr>\n",
       "    <tr>\n",
       "      <th>14721</th>\n",
       "      <td>\"new</td>\n",
       "      <td>2</td>\n",
       "      <td>1</td>\n",
       "    </tr>\n",
       "    <tr>\n",
       "      <th>14759</th>\n",
       "      <td>\"marielles\"</td>\n",
       "      <td>2</td>\n",
       "      <td>2</td>\n",
       "    </tr>\n",
       "  </tbody>\n",
       "</table>\n",
       "</div>"
      ],
      "text/plain": [
       "               words  freq  non_alpha_chars\n",
       "45                --   629                2\n",
       "2224              \"a    27                1\n",
       "2475            \"nao    24                1\n",
       "2546              \"o    23                1\n",
       "4166               \"    13                1\n",
       "5136         --disse    10                2\n",
       "5149             --a    10                2\n",
       "5676             \"os     8                1\n",
       "5698               -     8                1\n",
       "6985          paulo\"     6                1\n",
       "7340       nacional\"     6                1\n",
       "7572         brasil\"     6                1\n",
       "7784             \"as     5                1\n",
       "7858             \"um     5                1\n",
       "8162       --afirmou     5                2\n",
       "8202             \"em     5                1\n",
       "8210          mundo\"     5                1\n",
       "8373              \"e     5                1\n",
       "8886             \"ja     4                1\n",
       "8905         \"jornal     4                1\n",
       "9258               '     4                1\n",
       "9681          \"folha     4                1\n",
       "9835          temer\"     4                1\n",
       "10169          pais\"     4                1\n",
       "10280            \"el     4                1\n",
       "10440           \"uma     3                1\n",
       "10536        irmaos\"     3                1\n",
       "10588           \"nos     3                1\n",
       "10610          \"essa     3                1\n",
       "10617              /     3                1\n",
       "10928     eleitoral\"     3                1\n",
       "10942          \"tres     3                1\n",
       "11119       federal\"     3                1\n",
       "11249        \"spirit     3                1\n",
       "11276         \"muito     3                1\n",
       "11414        moody's     3                1\n",
       "11561         poor's     3                1\n",
       "11664  privilegiado\"     3                1\n",
       "12149            \"ha     3                1\n",
       "12296            \"se     3                1\n",
       "12387          --nao     3                2\n",
       "12669           rio\"     3                1\n",
       "12935       direito\"     2                1\n",
       "13047  \"impeachment\"     2                2\n",
       "13081        nacion\"     2                1\n",
       "13217   republicana\"     2                1\n",
       "13519       \"delacao     2                1\n",
       "13575            \"la     2                1\n",
       "13840      'lampeao'     2                2\n",
       "13944       \"clarin\"     2                2\n",
       "13984         antes\"     2                1\n",
       "13998       \"estaria     2                1\n",
       "14050         atroz\"     2                1\n",
       "14056          \"dano     2                1\n",
       "14104  investimento\"     2                1\n",
       "14374            \"eu     2                1\n",
       "14622            --o     2                2\n",
       "14716         times\"     2                1\n",
       "14721           \"new     2                1\n",
       "14759    \"marielles\"     2                2"
      ]
     },
     "execution_count": 94,
     "metadata": {},
     "output_type": "execute_result"
    }
   ],
   "source": [
    "words_df.query(\"non_alpha_chars>0\").head(60)"
   ]
  },
  {
   "cell_type": "code",
   "execution_count": 86,
   "metadata": {},
   "outputs": [
    {
     "data": {
      "text/plain": [
       "0    30531\n",
       "1      687\n",
       "2      140\n",
       "3        2\n",
       "Name: words, dtype: int64"
      ]
     },
     "execution_count": 86,
     "metadata": {},
     "output_type": "execute_result"
    }
   ],
   "source": [
    "a.value_counts()"
   ]
  },
  {
   "cell_type": "code",
   "execution_count": 79,
   "metadata": {},
   "outputs": [
    {
     "data": {
      "text/plain": [
       "'adasd 123asd 123/.;'"
      ]
     },
     "execution_count": 79,
     "metadata": {},
     "output_type": "execute_result"
    }
   ],
   "source": [
    "s = 'adasd 123asd 123/.;'\n",
    "s"
   ]
  },
  {
   "cell_type": "code",
   "execution_count": null,
   "metadata": {},
   "outputs": [],
   "source": []
  },
  {
   "cell_type": "code",
   "execution_count": null,
   "metadata": {},
   "outputs": [],
   "source": [
    "re.sub('/[A-Za-z]/', '')"
   ]
  },
  {
   "cell_type": "code",
   "execution_count": 77,
   "metadata": {},
   "outputs": [
    {
     "data": {
      "text/html": [
       "<div>\n",
       "<style scoped>\n",
       "    .dataframe tbody tr th:only-of-type {\n",
       "        vertical-align: middle;\n",
       "    }\n",
       "\n",
       "    .dataframe tbody tr th {\n",
       "        vertical-align: top;\n",
       "    }\n",
       "\n",
       "    .dataframe thead th {\n",
       "        text-align: right;\n",
       "    }\n",
       "</style>\n",
       "<table border=\"1\" class=\"dataframe\">\n",
       "  <thead>\n",
       "    <tr style=\"text-align: right;\">\n",
       "      <th></th>\n",
       "      <th>words</th>\n",
       "      <th>freq</th>\n",
       "    </tr>\n",
       "  </thead>\n",
       "  <tbody>\n",
       "    <tr>\n",
       "      <th>0</th>\n",
       "      <td></td>\n",
       "      <td>15197</td>\n",
       "    </tr>\n",
       "    <tr>\n",
       "      <th>1</th>\n",
       "      <td>o</td>\n",
       "      <td>10484</td>\n",
       "    </tr>\n",
       "    <tr>\n",
       "      <th>2</th>\n",
       "      <td>a</td>\n",
       "      <td>7375</td>\n",
       "    </tr>\n",
       "    <tr>\n",
       "      <th>3</th>\n",
       "      <td>que</td>\n",
       "      <td>3743</td>\n",
       "    </tr>\n",
       "    <tr>\n",
       "      <th>4</th>\n",
       "      <td>os</td>\n",
       "      <td>2145</td>\n",
       "    </tr>\n",
       "    <tr>\n",
       "      <th>...</th>\n",
       "      <td>...</td>\n",
       "      <td>...</td>\n",
       "    </tr>\n",
       "    <tr>\n",
       "      <th>31355</th>\n",
       "      <td>sabadell</td>\n",
       "      <td>1</td>\n",
       "    </tr>\n",
       "    <tr>\n",
       "      <th>31356</th>\n",
       "      <td>beckett</td>\n",
       "      <td>1</td>\n",
       "    </tr>\n",
       "    <tr>\n",
       "      <th>31357</th>\n",
       "      <td>fraudou</td>\n",
       "      <td>1</td>\n",
       "    </tr>\n",
       "    <tr>\n",
       "      <th>31358</th>\n",
       "      <td>improvisam</td>\n",
       "      <td>1</td>\n",
       "    </tr>\n",
       "    <tr>\n",
       "      <th>31359</th>\n",
       "      <td>karnikowski</td>\n",
       "      <td>1</td>\n",
       "    </tr>\n",
       "  </tbody>\n",
       "</table>\n",
       "<p>31360 rows × 2 columns</p>\n",
       "</div>"
      ],
      "text/plain": [
       "             words   freq\n",
       "0                   15197\n",
       "1                o  10484\n",
       "2                a   7375\n",
       "3              que   3743\n",
       "4               os   2145\n",
       "...            ...    ...\n",
       "31355     sabadell      1\n",
       "31356      beckett      1\n",
       "31357      fraudou      1\n",
       "31358   improvisam      1\n",
       "31359  karnikowski      1\n",
       "\n",
       "[31360 rows x 2 columns]"
      ]
     },
     "execution_count": 77,
     "metadata": {},
     "output_type": "execute_result"
    }
   ],
   "source": [
    "words_df"
   ]
  },
  {
   "cell_type": "code",
   "execution_count": 72,
   "metadata": {},
   "outputs": [
    {
     "data": {
      "text/plain": [
       "              15197\n",
       "o             10484\n",
       "a              7375\n",
       "que            3743\n",
       "os             2145\n",
       "e              2025\n",
       "um             2024\n",
       "governo        2013\n",
       "nao            1909\n",
       "uma            1724\n",
       "de             1654\n",
       "presidente     1554\n",
       "pais           1500\n",
       "r              1388\n",
       "disse          1354\n",
       "as             1265\n",
       "se             1242\n",
       "em             1224\n",
       "globo          1208\n",
       "segundo        1125\n",
       "lula           1111\n",
       "ano            1067\n",
       "no             1066\n",
       "anos           1007\n",
       "p               990\n",
       "ele             932\n",
       "para            926\n",
       "brasil          925\n",
       "fonte           924\n",
       "ontem           897\n",
       "titulo          877\n",
       "autor           871\n",
       "ainda           866\n",
       "mais            835\n",
       "na              823\n",
       "sao             796\n",
       "federal         776\n",
       "rio             756\n",
       "mas             736\n",
       "ministro        725\n",
       "paulo           670\n",
       "milhoes         655\n",
       "pode            655\n",
       "mil             652\n",
       "isso            633\n",
       "--              629\n",
       "dois            599\n",
       "contra          595\n",
       "com             593\n",
       "politica        583\n",
       "diz             581\n",
       "economia        578\n",
       "pt              569\n",
       "hoje            566\n",
       "maior           550\n",
       "caso            543\n",
       "porque          529\n",
       "sua             523\n",
       "seu             516\n",
       "do              516\n",
       "dtype: int64"
      ]
     },
     "execution_count": 72,
     "metadata": {},
     "output_type": "execute_result"
    }
   ],
   "source": [
    "pd.Series(tokens).value_counts().head(60)"
   ]
  },
  {
   "cell_type": "code",
   "execution_count": 69,
   "metadata": {},
   "outputs": [
    {
     "data": {
      "text/plain": [
       "31360"
      ]
     },
     "execution_count": 69,
     "metadata": {},
     "output_type": "execute_result"
    }
   ],
   "source": [
    "len(set(tokens))"
   ]
  },
  {
   "cell_type": "code",
   "execution_count": 65,
   "metadata": {},
   "outputs": [
    {
     "data": {
      "text/plain": [
       "'enio sales abrigou rio de quatro mil pessoas perseguidas regimes militares cone sul   no fim uma tarde outono  secretario entrou gabinete surpreendeu cardeal um papel o relato um imprevisto portaria um jovem documentos diziase fugitivo ditadura militar instalada seis semanas argentina estivera chile temera vida pais general augusto pinochet recorreu arquidiocese santiago onde deram esperanca traduzida uma unica linha naquele manuscrito rua gloria  rio  endereco palacio sao joaquim escritorio residencia cardealarcebispo eugenio araujo sales  ate entao nunca trabalhado refugiados politicos com pessoal daqui  conta cardeal sales  anos depoispessoal daqui presos politicos ditadura brasileira acabava completar  anos quem visitava celebracoes natal pascoa eu o dever receber refugiados  eu disse ele candido da ponte neto secretario vou rezar amanha gente conversa  recorda cardeal  e rezar havia quadro um crucifixo grande parede foi drama com crucifixo mao pensava como cidadao brasileiro posso receber montonero tupamaro refugiados vinham se entravam pais passavam o territorio brasileiro em seguida repensava agora eu pastor o dever receber ai o drama todo tinha dever receber depois candido voltou disse logo assumo  entao foi o telefone vermelho pediu falar o general sylvio frota  relata secretario formavam dupla improvavel o farda suburbano grajau compunha figura redonda nariz adunco fala fina sempre prolixo curto ideias impressao registrada documentos pessoais seu chefe presidente ernesto geisel o batina sertanejo acari rn magro alto fala seca baixa quase monocordica sempre cuidadoso palavreado reconhecido governo um general papa cruzada anticomunista mantinham relacao cordial meia decada frota catolico convicto chefiara i exercito rio governo emilio medici  periodo uma guerra que homens dizimavamse definiu autobiografia nao bem assim nos  meses sob seu comando de julho  marco  destacamento operacoes internas i exercito deixou rastro  mortos quase todos jovens estudantes produziu peculiares encenacoes confrontos terroristas ruas carbonizando cadaveres prisioneiros dentro automoveis grajau  em jacarepagua  havia dois anos ministro exercito segundo cargo importancia governo militar sonhava a cadeira generalpresidente ernesto geisel cuja administracao achava dominada um espirito esquerdista quando cardeal telefonou general ruminava desdita inicio ano geisel demitira dos principais aliados comando ii exercito sao paulo do anuncio o suicidio regime militar o o enforcamento frota admitia para ele morte operario manoel fiel filho tortura mais caso autoeliminacao  tipico lenitivo a angustia prisioneiro do interrogatorio interpretou memorias na crise exoneracao comandante sao paulo presidente recebera telefonema apoio  do cardeal sales  chamei frota telefone vermelho  conta cardeal hoje  anos  ele um pesopesado alias pesadissimo e falei frota voce receber comunicacao que comunistas abrigados palacio sao joaquim que protegendo comunistas saiba e verdade sou respon'"
      ]
     },
     "execution_count": 65,
     "metadata": {},
     "output_type": "execute_result"
    }
   ],
   "source": [
    "text[10000:13000]"
   ]
  },
  {
   "cell_type": "code",
   "execution_count": 63,
   "metadata": {},
   "outputs": [
    {
     "data": {
      "text/plain": [
       "2677.907"
      ]
     },
     "execution_count": 63,
     "metadata": {},
     "output_type": "execute_result"
    }
   ],
   "source": [
    "len(text)/1000"
   ]
  },
  {
   "cell_type": "code",
   "execution_count": 57,
   "metadata": {},
   "outputs": [
    {
     "data": {
      "text/plain": [
       "'titulo a lenda fundou nacao autor popham peter fonte o globo  ciencia p  suica comemora sete seculos feitos arqueiro guilherme tell os suicos celebram mes o aniversario uma historia os ajudou se definirem nacao que desde entao inspira republicanos lenda guilherme tell ha  anos acontecimento dramatico terrivel abateu um homem pode considerado lenda historiadores que  suicos acreditam realmente existido aconteceu contam vila altdorf cantao uri cuja populacao atual de  pessoas o passo sao gotardo liga cantao austria sido aberta pouco tempo os habsburgos viena despacharam o vilarejo entre picos nevados regiao novo cruel governante chamado hermann gessler para garantir os moradores povoado entendessem bem significado sujeicao gessler ergueu praca principal altdorf especie obelisco colocou seu chapeu ponta exigiu todos fizessem reverencia passar monumento gesto rebelde motivacao politica mas naquele dia particular  novembro  pequeno proprietario rural seu filho passeavam praca passaram obelisco fazer nenhum gesto pode sido apenas ignorancia talvez ninguem contado eles a nova regra ou talvez os perpetuaram lenda preferem gesto tido motivacao politica estaria danacao reverenciasse opressor vindo terra bolos creme das valsas embora so surgido depois considerado qualquer suico patriota verdadeiro demonio gessler notou o fazendeiro vagando praca um arco das maos e subitamente punicao perfeita ocorreu ele pediu seus guardas o detivessem informou ele uma maca colocada cabeca seu filho que deveria acertala uma flecha se guilherme tell aceitasse desafio pai filho mortos rei artur robin hood rejeitados em linhas gerais historia guilherme tell tao conhecida quanto qualquer outra lenda europa todos conhecem desfecho tell partiu maca duas o apavorado rapaz sobreviveu o surpreendente constatar pessoas sofisticadas muito bem educadas dias atuais acreditem isso realmente aconteceu todos amam historias merlin do rei artur robin hood joao pequeno ha tempo ninguem toma fatos reais guilherme tell uma lenda exatamente mesmo tipo mas geracoes ensinada escolas suicas um evento historico hoje embora muitos reconhecam narrativa elementos ficcionais ainda vista uma historia importante por que da forma e contada historia o primeiro evento critico a gestacao que a suica   anos antes feito tell o momento que tendo cercado destruido fortificados castelos invasores habsburgos camponeses tres cantoes regiao central reuniram rutli meadow cantao uri e solenemente juraram unir contra opressao estrangeira formar estado democratico igualitario independente eram boas intencoes mas necessarios sanguefrio a precisao tell aprimorados alquimia narrativas orais o transformaram heroi que tornassem realidade a historia guilherme tell prossegue conta como da divisao maca de varios outros feitos arqueiro acabou matar gessler inspirando compatriotas se sublevarem expulsarem habsburgos sempre e ai comeca historia mais antiga democracia mundo historiadores cansados desmentir historia guilherme tell mas como reunir dados contrarios existencia jardim eden redundante o especialistas correm serio risco parecer ridiculos  e claro voce pode provar alguem existiu  afirma roger sablonier professor historia medieval universidade zurique  mas leva conta criterios historicos muito implausivel porque lenda coincide as condicoes historicas seculo xiii tell uma figura inventada eu conheco nenhum historiador profissional defenda tese que existiu uma figura historica esse debate superado tambem completamente desinteressante versoes similares outros paises mas ceticismo termina ai os especialistas igualmente descrentes o juramento rutli evento solene marcou inicio historia independente suica com palavra novamente professor sablonier  ha pouco verdade sobre rutli fato historico  diz  sequer sabe certeza onde localizaria historica rutli o uso os suicos fizeram dessa antiga lenda e muitas maneiras ainda fantastico que propria historia lendas medievais um heroi e obrigado acertar pequeno objeto posicionado a cabeca filho inumeras e surgiram mais diversos lugares na inglaterra atribuida guilherme cloudsely na dinamarca onde legendario heroi palnatoke obrigado acertar maca cabeca seu filho enquanto descia colina esqui a versao suica as outras foi escrita fim seculo xv ganhou especial ressonancia cantoes no inicio seculo seguinte ja o heroi luta independencia tres cantoes fundadores antiga confederacao suica mais quatro seculos passaram entretanto antes ele tornasse fundador arquetipico nacao suica e das razoes quais suica apegou ele simbolo a inglaterra muito havia afastado robin hood que estadonacao tratase um mais recentes improvaveis europa de acordo historiador britanico christopher hughes cidadania suica acepcao moderna palavra teve inicio da ocupacao pais franca  em  primeiras regioes lingua italiana uniram nova republica helvecia importantes areas lingua francesa absorvidas somente  a atual suica muitas linguas um produto inicio seculo xix escreve benedict andersen comunidades imaginadas andersen em celebrado livro descreve como antes declaracao americana independencia nacoes mundo foram apos outra imaginadas seus habitantes governantes existirem ve nacionalismo suico pertencente ultima leva pouco de decada antigo que nacionalismo indonesio birmanes uma nacao busca um mito mas e nada engracado uma ultimas especialmente se tratando uma nacao caracteristicas tao anomalas quanto falta uniformidade linguistica austria alemanha franca reino unido ausencia unidade religiosa italia nada seguranca uma antiga dinastia dai necessidade criar genese a nacao la atras perdida brumas tempo personificada um heroi tell dai que historiadores suicos negam realidade historica lenda maca sempre bombardeados recentemente mensagens odio ate ameacas morte a lenda mito fundacao nacional oferece suicos possibilidade se identificarem tell campones corajoso suficiente desafiar tirano austriaco ao fazer isso relega segundo plano realidade menos romantica segredo longevidade antiga confederacao suica segundo hughes ela sobreviveu   a dupla natureza contra inimigos externos produziu unidade povos contra rebelioes internas criou unidade oligarquias todos sabem e dessa forma cruel os estados bem sucedidos funcionam mas bom imaginar outras maneiras inspiracao pecas operas e suicos sao unicos inspirados historia tell ela e verdade versao ateia historia abraao isaac a intervencao deus ultimo minuto salvar filho condenado como tal historia inspirou friedrich schiller sua peca  guilherme tell que heroi uma personificacao violencia revolucionaria gioacchino rossini escreveu opera baseada peca john wilkes booth assassino abraham lincoln se inspirou nela hitler um entusiasta historia  um suico chamado maurice bavaud fez dura critica e represalia baniu peca o escritor americano william burroughs serviu historia um intuito diferente macabro quando acidentalmente atirou sua parceira joan vollmer a matou durante brincadeira bebados chamada guilherme tell bar mexico  mas verdadeiros donos historia os suicos depois unificacao  imortalizaram guilherme tell um monumento altdorf pintura ferdinand hoddler que heroi aparece jeito deus as performances anuais peca schiller ar livre ocorrem hoje tell o amuleto qual todos aferraram durante segunda guerra mundial o homem deu sentido sua decisao dar costas europa as nacoes unidas e quanto estardalhaco suicos fazem enfatizar diferencas sua independencia relacao resto mundo personificadas homem o arco facilmente passam despercebidas diferencas internas'"
      ]
     },
     "execution_count": 57,
     "metadata": {},
     "output_type": "execute_result"
    }
   ],
   "source": [
    "data2.html.iloc[19]"
   ]
  },
  {
   "cell_type": "code",
   "execution_count": null,
   "metadata": {},
   "outputs": [],
   "source": [
    "data2.html.iloc[5]"
   ]
  },
  {
   "cell_type": "code",
   "execution_count": 43,
   "metadata": {},
   "outputs": [
    {
     "data": {
      "text/plain": [
       "'ibama multa belo monte mortetoneladas peixeso ibama anunciou ontem aplicado tres multas um total rmilhoes norte energia empresa responsavel hidreletrica belo monte rio xingu pa o motivo principal a constatacao mortetoneladas peixes durante processo enchimento reservatorio o fim ano passado o inicio deste ano durante piracema epoca desova a norte energia comentou ontem caso porque ainda havia sido notificada oficialmente a primeira multa rmilhoes refere diretamente morte peixes foi maior aplicada norte energia ibama outra autuacao rmil ocorreu porque empresa descumpriu condicionante prevista licenca operacao apresentar \"informacoes parcialmente falsasa quantidade trabalhadores empregada resgate fauna aquatica a terceira rmilhoes referiuse nao observancia plano basico ambiental protecao peixes bolsoes d\\'agua em nota ibama informou atuou identificar causas incidente determinou adocao medidas mitigacao sanar problema isso demora a constatacao a aplicacao multas \"a mortandade ocorreu razao condicoes operacao vertedouros do canal derivacao causaram turbilhonamento excessivo aguaexplicou ibama nota um problemas descobertos orgao belo monte a velocidade rapida abertura vertedouro momento cheias como ocorria poucos minutos peixes acabavam envolvidos turbilhao agua morriam pressionados contra solo os limites concreto barragem agora apos acao ibama vertedouro abre lentamente longo horas evitar choques o globo neconomia p '"
      ]
     },
     "execution_count": 43,
     "metadata": {},
     "output_type": "execute_result"
    }
   ],
   "source": [
    "alpha = re.compile('[\\W_]+ ', re.UNICODE)\n",
    "alpha.sub('',data2.html.iloc[5])"
   ]
  },
  {
   "cell_type": "code",
   "execution_count": 26,
   "metadata": {},
   "outputs": [
    {
     "data": {
      "text/plain": [
       "'lampiao maria bonita fim reis cangaco  jun  marcelo remigio ele chamado \"governador sertoes\" ter sido eleito ditou leis interior sete estados nordestinos fez frente coronelismo dominava politica controlava instituicoes a policia em  agosto  o globo trouxe sua primeira pagina fim saga virgulino ferreira lampiao sua companheira maria deia maria bonita mortos uma emboscada dia anterior junto outros nove cangaceiros gruta angicos proxima margens velho chico sergipe arquivo temidos lampiao maria bonita fazem pose sertao fundo bando cangaceiros \"livre nordeste maior seus bandoleiros -- \\'lampeao\\' morreu lutando sua cabeca a  companheiros conduzida maceio -- a facanha tenente bezerra tracos biographicos tenente facinora\" dizia manchete mas editores queriam diferencial cobertura morte mais temido cangaceiro e acionaram correspondente maceio ir alem fatos buscar bastidores legado deixado lampiao no dia  agosto  o globo relatou disputa sucessao virgulino arriscou quatro nomes confianca lampiao comandar grupo \"quatro bandidos disputam spectro \\'lampeao\\' a successao \\'rei cangaco\\' pende ainda \\'corisco\\' roque \\'portuguez\\' \\'sereno\\'\"  correspondente espanta peso cangaceira vaidoso lampiao usava perfume frances gostava uisque importado durante cobertura morte lampiao maria bonita o globo fez alerta banditismo havia terminado contrario chegado \"phase aguda porque governo comprehende necessidade manter ocupacao sertao suas forcas\" desafio semelhante enfrentado hoje quase  anos depois areas pacificadas estado rio na mesma edicao  agosto  maria bonita ganhou destaque em texto exclusivo correspondente maceio trouxe narracao soldado bertholdo teve missao para parte tropa honra cortar cabeca maria bonita \"paciencia maria bonita\" disse soldado antes decepar cabeca companheira lampiao segundo correspondente frase resumiu sentimento militar hora ainda relato chamou atencao descricao bertholdo fez cangaceira \"\\'maria bonita\\' gorda no pescoco de dois dedos banha notados soldado\" lampiao como de paixoes rifle winchester  chamado lampiao origem seu apelido era afilhado amigo padre cicero vaidoso usava lencos seda perfumes franceses oculos alemaes disfarcavam defeito olho esquerdo gostava de beber uisque importado em de fotos conhecidas aparece lendo o globo o flagrante credito acreditase do libanes benjamin abrahao secretario padre cicero unico filmar lampiao seu bando benjamin retratado filme \"baile perfumando\"  cidades sitiadas pelo medo dos tempos cangaco dias hoje sertao alagoas bahia ceara paraiba pernambuco rio grande norte sergipe -- onde rei cangaco agia -- ainda alvo violencia pesquisa instituto igarape aponta seis dez estados maiores taxas homicidio no nordeste alagoas bahia ceara paraiba pernambuco sergipe das dez cidades violentas seis nordestinas maceio camacari fortaleza joao pessoa vitoria conquista imperatriz para pesquisador jose maria nobrega universidade federal campina grande violencia ligada fragilidade estado -- a epoca lampiao pais vivia instabilidade politica hoje violencia ligada aumento poder aquisitivo drogas a falhas policia'"
      ]
     },
     "execution_count": 26,
     "metadata": {},
     "output_type": "execute_result"
    }
   ],
   "source": [
    "data2.sample(1).html.iloc[0]"
   ]
  },
  {
   "cell_type": "code",
   "execution_count": 15,
   "metadata": {},
   "outputs": [
    {
     "data": {
      "text/html": [
       "<div>\n",
       "<style scoped>\n",
       "    .dataframe tbody tr th:only-of-type {\n",
       "        vertical-align: middle;\n",
       "    }\n",
       "\n",
       "    .dataframe tbody tr th {\n",
       "        vertical-align: top;\n",
       "    }\n",
       "\n",
       "    .dataframe thead th {\n",
       "        text-align: right;\n",
       "    }\n",
       "</style>\n",
       "<table border=\"1\" class=\"dataframe\">\n",
       "  <thead>\n",
       "    <tr style=\"text-align: right;\">\n",
       "      <th></th>\n",
       "      <th>id</th>\n",
       "      <th>html</th>\n",
       "      <th>title</th>\n",
       "      <th>author</th>\n",
       "      <th>href</th>\n",
       "      <th>citation</th>\n",
       "      <th>date</th>\n",
       "      <th>filename</th>\n",
       "      <th>filesize</th>\n",
       "      <th>filetype</th>\n",
       "      <th>filehref</th>\n",
       "    </tr>\n",
       "  </thead>\n",
       "  <tbody>\n",
       "    <tr>\n",
       "      <th>0</th>\n",
       "      <td>406557-2</td>\n",
       "      <td>&lt;p&gt;Título: &lt;b&gt;Contribuição à Previdência deve ...</td>\n",
       "      <td>Governo pretende reativar câmaras setoriais</td>\n",
       "      <td>Oliveira, Eliane; Barbosa, Flávia</td>\n",
       "      <td>/bdsf/handle/id/406557</td>\n",
       "      <td>O Globo, 18/05/2007, Economia, p. 27</td>\n",
       "      <td>18/05/2007</td>\n",
       "      <td>complemento_1.htm</td>\n",
       "      <td>2.784Kb</td>\n",
       "      <td>HTML</td>\n",
       "      <td>/bdsf/bitstream/handle/id/406557/complemento_1...</td>\n",
       "    </tr>\n",
       "    <tr>\n",
       "      <th>1</th>\n",
       "      <td>399177-2</td>\n",
       "      <td>&lt;p&gt;Título: &lt;b&gt;CPI PODERÁ OUVIR DE NOVO EX-MINI...</td>\n",
       "      <td>Palocci já pode ser indiciado</td>\n",
       "      <td>Jungblut, Cristiane; Carvalho, Jailton de; Web...</td>\n",
       "      <td>/bdsf/handle/id/399177</td>\n",
       "      <td>O Globo, 03/04/2006, O País, p. 3</td>\n",
       "      <td>03/04/2006</td>\n",
       "      <td>complemento_1.htm</td>\n",
       "      <td>3.820Kb</td>\n",
       "      <td>HTML</td>\n",
       "      <td>/bdsf/bitstream/handle/id/399177/complemento_1...</td>\n",
       "    </tr>\n",
       "    <tr>\n",
       "      <th>2</th>\n",
       "      <td>400292-6</td>\n",
       "      <td>&lt;p&gt;Título: &lt;b&gt;Copa do Mundo no meio da fumaça&lt;...</td>\n",
       "      <td>Cerco a fumantes na Europa</td>\n",
       "      <td>Berlinck, Deborah</td>\n",
       "      <td>/bdsf/handle/id/400292</td>\n",
       "      <td>O Globo, 21/05/2006, O Mundo, p. 41</td>\n",
       "      <td>21/05/2006</td>\n",
       "      <td>complemento_5.htm</td>\n",
       "      <td>1.916Kb</td>\n",
       "      <td>HTML</td>\n",
       "      <td>/bdsf/bitstream/handle/id/400292/complemento_5...</td>\n",
       "    </tr>\n",
       "    <tr>\n",
       "      <th>3</th>\n",
       "      <td>396275-1</td>\n",
       "      <td>&lt;p&gt;Título: &lt;b&gt;Virar o jogo&lt;/b&gt;&lt;br/&gt;\\r\\nAutor: ...</td>\n",
       "      <td>Virar o jogo</td>\n",
       "      <td>Leitão, Míriam</td>\n",
       "      <td>/bdsf/handle/id/396275</td>\n",
       "      <td>O Globo, 19/01/2006, Economia, p. 22</td>\n",
       "      <td>19/01/2006</td>\n",
       "      <td>noticia.htm</td>\n",
       "      <td>4.388Kb</td>\n",
       "      <td>HTML</td>\n",
       "      <td>/bdsf/bitstream/handle/id/396275/noticia.htm?s...</td>\n",
       "    </tr>\n",
       "    <tr>\n",
       "      <th>4</th>\n",
       "      <td>414658-1</td>\n",
       "      <td>&lt;p&gt;Título: &lt;b&gt;O General do Papa&lt;/b&gt;&lt;br/&gt;\\r\\nAu...</td>\n",
       "      <td>O General do Papa</td>\n",
       "      <td>Casado, José</td>\n",
       "      <td>/bdsf/handle/id/414658</td>\n",
       "      <td>O Globo, 02/03/2008, O País, p. 16</td>\n",
       "      <td>02/03/2008</td>\n",
       "      <td>noticia.htm</td>\n",
       "      <td>4.858Kb</td>\n",
       "      <td>HTML</td>\n",
       "      <td>/bdsf/bitstream/handle/id/414658/noticia.htm?s...</td>\n",
       "    </tr>\n",
       "    <tr>\n",
       "      <th>5</th>\n",
       "      <td>521609-1</td>\n",
       "      <td>&lt;h3&gt;&lt;span style=\"font-size:22px\"&gt;&lt;span style=\"...</td>\n",
       "      <td>Ibama multa Belo Monte pela morte de 16 tonela...</td>\n",
       "      <td>Fariello, Danilo</td>\n",
       "      <td>/bdsf/handle/id/521609</td>\n",
       "      <td>O globo, n. 30216, 16/04/2016. Economia, p. 27</td>\n",
       "      <td>16/04/2016</td>\n",
       "      <td>noticia.html</td>\n",
       "      <td>2.557Kb</td>\n",
       "      <td>HTML</td>\n",
       "      <td>/bdsf/bitstream/handle/id/521609/noticia.html?...</td>\n",
       "    </tr>\n",
       "    <tr>\n",
       "      <th>6</th>\n",
       "      <td>398316-1</td>\n",
       "      <td>&lt;p&gt;Título: &lt;b&gt;VARIG PERDEU MAIS MERCADO DOMÉST...</td>\n",
       "      <td>VARIG PERDEU MAIS MERCADO DOMÉSTICO EM JANEIRO...</td>\n",
       "      <td>Ordoñez, Ramona</td>\n",
       "      <td>/bdsf/handle/id/398316</td>\n",
       "      <td>O Globo, 07/02/2006, Economia, p. 22</td>\n",
       "      <td>07/02/2006</td>\n",
       "      <td>noticia.htm</td>\n",
       "      <td>2.340Kb</td>\n",
       "      <td>HTML</td>\n",
       "      <td>/bdsf/bitstream/handle/id/398316/noticia.htm?s...</td>\n",
       "    </tr>\n",
       "    <tr>\n",
       "      <th>7</th>\n",
       "      <td>401853-1</td>\n",
       "      <td>&lt;p&gt;Título: &lt;b&gt;DEPOIS DE KOFI ANNAN&lt;/b&gt;&lt;br/&gt;\\r\\...</td>\n",
       "      <td>Depois de Kofi Annan</td>\n",
       "      <td>Mendes, Candido</td>\n",
       "      <td>/bdsf/handle/id/401853</td>\n",
       "      <td>O Globo, 07/08/2006, Opinião, p. 7</td>\n",
       "      <td>07/08/2006</td>\n",
       "      <td>noticia.htm</td>\n",
       "      <td>4.672Kb</td>\n",
       "      <td>HTML</td>\n",
       "      <td>/bdsf/bitstream/handle/id/401853/noticia.htm?s...</td>\n",
       "    </tr>\n",
       "    <tr>\n",
       "      <th>8</th>\n",
       "      <td>416901-4</td>\n",
       "      <td>&lt;p&gt;Título: &lt;b&gt;Candidatos punidos&lt;/b&gt;&lt;br/&gt;\\r\\nA...</td>\n",
       "      <td>Oposição vai explorar alta da inflação na camp...</td>\n",
       "      <td>Camarotti, Gerson</td>\n",
       "      <td>/bdsf/handle/id/416901</td>\n",
       "      <td>O Globo, 05/07/2008, O País, p. 5</td>\n",
       "      <td>05/07/2008</td>\n",
       "      <td>complemento_3.htm</td>\n",
       "      <td>523bytes</td>\n",
       "      <td>HTML</td>\n",
       "      <td>/bdsf/bitstream/handle/id/416901/complemento_3...</td>\n",
       "    </tr>\n",
       "    <tr>\n",
       "      <th>9</th>\n",
       "      <td>430216-1</td>\n",
       "      <td>&lt;p&gt;Título: &lt;b&gt;No jogo de 2012, cartas de 2014&lt;...</td>\n",
       "      <td>No jogo de 2012, cartas de 2014</td>\n",
       "      <td>Amorim, Silvia</td>\n",
       "      <td>/bdsf/handle/id/430216</td>\n",
       "      <td>O Globo, 01/01/2012, O País, p. 3</td>\n",
       "      <td>01/01/2012</td>\n",
       "      <td>noticia.htm</td>\n",
       "      <td>5.001Kb</td>\n",
       "      <td>HTML</td>\n",
       "      <td>/bdsf/bitstream/handle/id/430216/noticia.htm?s...</td>\n",
       "    </tr>\n",
       "  </tbody>\n",
       "</table>\n",
       "</div>"
      ],
      "text/plain": [
       "         id                                               html  \\\n",
       "0  406557-2  <p>Título: <b>Contribuição à Previdência deve ...   \n",
       "1  399177-2  <p>Título: <b>CPI PODERÁ OUVIR DE NOVO EX-MINI...   \n",
       "2  400292-6  <p>Título: <b>Copa do Mundo no meio da fumaça<...   \n",
       "3  396275-1  <p>Título: <b>Virar o jogo</b><br/>\\r\\nAutor: ...   \n",
       "4  414658-1  <p>Título: <b>O General do Papa</b><br/>\\r\\nAu...   \n",
       "5  521609-1  <h3><span style=\"font-size:22px\"><span style=\"...   \n",
       "6  398316-1  <p>Título: <b>VARIG PERDEU MAIS MERCADO DOMÉST...   \n",
       "7  401853-1  <p>Título: <b>DEPOIS DE KOFI ANNAN</b><br/>\\r\\...   \n",
       "8  416901-4  <p>Título: <b>Candidatos punidos</b><br/>\\r\\nA...   \n",
       "9  430216-1  <p>Título: <b>No jogo de 2012, cartas de 2014<...   \n",
       "\n",
       "                                               title  \\\n",
       "0        Governo pretende reativar câmaras setoriais   \n",
       "1                      Palocci já pode ser indiciado   \n",
       "2                         Cerco a fumantes na Europa   \n",
       "3                                       Virar o jogo   \n",
       "4                                  O General do Papa   \n",
       "5  Ibama multa Belo Monte pela morte de 16 tonela...   \n",
       "6  VARIG PERDEU MAIS MERCADO DOMÉSTICO EM JANEIRO...   \n",
       "7                               Depois de Kofi Annan   \n",
       "8  Oposição vai explorar alta da inflação na camp...   \n",
       "9                    No jogo de 2012, cartas de 2014   \n",
       "\n",
       "                                              author                    href  \\\n",
       "0                  Oliveira, Eliane; Barbosa, Flávia  /bdsf/handle/id/406557   \n",
       "1  Jungblut, Cristiane; Carvalho, Jailton de; Web...  /bdsf/handle/id/399177   \n",
       "2                                  Berlinck, Deborah  /bdsf/handle/id/400292   \n",
       "3                                     Leitão, Míriam  /bdsf/handle/id/396275   \n",
       "4                                       Casado, José  /bdsf/handle/id/414658   \n",
       "5                                   Fariello, Danilo  /bdsf/handle/id/521609   \n",
       "6                                    Ordoñez, Ramona  /bdsf/handle/id/398316   \n",
       "7                                    Mendes, Candido  /bdsf/handle/id/401853   \n",
       "8                                  Camarotti, Gerson  /bdsf/handle/id/416901   \n",
       "9                                     Amorim, Silvia  /bdsf/handle/id/430216   \n",
       "\n",
       "                                         citation        date  \\\n",
       "0            O Globo, 18/05/2007, Economia, p. 27  18/05/2007   \n",
       "1               O Globo, 03/04/2006, O País, p. 3  03/04/2006   \n",
       "2             O Globo, 21/05/2006, O Mundo, p. 41  21/05/2006   \n",
       "3            O Globo, 19/01/2006, Economia, p. 22  19/01/2006   \n",
       "4              O Globo, 02/03/2008, O País, p. 16  02/03/2008   \n",
       "5  O globo, n. 30216, 16/04/2016. Economia, p. 27  16/04/2016   \n",
       "6            O Globo, 07/02/2006, Economia, p. 22  07/02/2006   \n",
       "7              O Globo, 07/08/2006, Opinião, p. 7  07/08/2006   \n",
       "8               O Globo, 05/07/2008, O País, p. 5  05/07/2008   \n",
       "9               O Globo, 01/01/2012, O País, p. 3  01/01/2012   \n",
       "\n",
       "            filename  filesize filetype  \\\n",
       "0  complemento_1.htm   2.784Kb     HTML   \n",
       "1  complemento_1.htm   3.820Kb     HTML   \n",
       "2  complemento_5.htm   1.916Kb     HTML   \n",
       "3        noticia.htm   4.388Kb     HTML   \n",
       "4        noticia.htm   4.858Kb     HTML   \n",
       "5       noticia.html   2.557Kb     HTML   \n",
       "6        noticia.htm   2.340Kb     HTML   \n",
       "7        noticia.htm   4.672Kb     HTML   \n",
       "8  complemento_3.htm  523bytes     HTML   \n",
       "9        noticia.htm   5.001Kb     HTML   \n",
       "\n",
       "                                            filehref  \n",
       "0  /bdsf/bitstream/handle/id/406557/complemento_1...  \n",
       "1  /bdsf/bitstream/handle/id/399177/complemento_1...  \n",
       "2  /bdsf/bitstream/handle/id/400292/complemento_5...  \n",
       "3  /bdsf/bitstream/handle/id/396275/noticia.htm?s...  \n",
       "4  /bdsf/bitstream/handle/id/414658/noticia.htm?s...  \n",
       "5  /bdsf/bitstream/handle/id/521609/noticia.html?...  \n",
       "6  /bdsf/bitstream/handle/id/398316/noticia.htm?s...  \n",
       "7  /bdsf/bitstream/handle/id/401853/noticia.htm?s...  \n",
       "8  /bdsf/bitstream/handle/id/416901/complemento_3...  \n",
       "9  /bdsf/bitstream/handle/id/430216/noticia.htm?s...  "
      ]
     },
     "execution_count": 15,
     "metadata": {},
     "output_type": "execute_result"
    }
   ],
   "source": [
    "data2"
   ]
  },
  {
   "cell_type": "code",
   "execution_count": 2,
   "metadata": {},
   "outputs": [
    {
     "data": {
      "text/plain": [
       "'titulo cpi podera ouvir de novo exministro autor cristiane jungblut jailton carvalho demetrio fonte o globo  o pais p  oposicao disposta convocar palocci espera esclarecimentos bastos brasilia a oposicao esperar depoimento exministro fazenda antonio palocci policia federal quartafeira ja anunciava ontem disposicao convocalo voltar cpi bingos caso insista nao participacao quebra ilegal sigilo bancario caseiro francenildo costa postura cautelosa adotada relacao ministro justica marcio thomaz bastos diante revelacao que dois assessores estiveram casa palocci antes divulgacao extrato parlamentares oposicao acham e preciso esclarecer caso esperam bastos faca isso  temos esperar depoimento palocci pf se insistir mentir cabe cpi convocalo o ministro thomaz bastos tem dever vir publico esclarecer envolvimento direto assessores  disse senador alvaro dias psdbpr para deputado acm neto pflba ha duvidas que palocci ordenou quebra sigilo caseiro  a situacao grave depois palocci saiu ministerio situacao deixou ser caso politica ser caso policia para ele cpi bingos que investigar quebra sigilo caseiro o fim  a comissao decidiu convocacao jorge mattoso e houver duvida o caso devem chamar palocci o episodio cada vez proximo ministro se se confirmar ser coisa grave diz garibaldi o relator cpi bingos senador garibaldi alves pmdbrn acha e preciso investigar que exatamente faziam casa palocci secretario direito economico ministerio justica daniel goldberg o chefe gabinete bastos claudio alencar  horas antecederam divulgacao extrato bancario caseiro francenildo  e preciso apurar ver realmente que fazendo senhor goldberg se se confirmar ser coisa grave envolvimento assim proprio ministerio justica  disse garibaldi  o ministerio justica virou escritorio advocacia criminal a cpi bingos de continuar investigando nao surpreende palocci ordenado quebra sigilo  disse deputado eduardo paes psdbrj o presidente cpi bingos senador efraim morais pflpb disse a comissao devera alterar cronograma amanha prevista acareacao o presidente sebrae paulo okamotto o exsecretario financas sao jose campos sp paulo tarso venceslau acusa okamotto envolvimento caixa dois prefeituras petistas ate quartafeira cpi devera votar requerimento convocando expresidente caixa economica jorge mattoso cauteloso as providencias a cpi podera tomar efraim falou expectativa o depoimento palocci da necessidade mais detalhes a presenca assessores ministerio justica casa dele  vamos aguardar fatos decidir e linha vamos dissecar noticias para alvaro dias trama violar sigilo caseiro passa planalto que levantaria possibilidade envolvimento presidente lula palocci no planalto teria dado ordem mattoso levantar movimentacao financeira francenildo  o importante tudo e que nesses dias palocci despachando planalto que da impressao que lula sabia  disse dias ressalvando porem a pf agido total independenciademetrio weber cristiane jungblut martha beck'"
      ]
     },
     "execution_count": 2,
     "metadata": {},
     "output_type": "execute_result"
    }
   ],
   "source": [
    "from src.utils.preprocess import TextCleaner\n",
    "Cleaner = TextCleaner()\n",
    "Cleaner.transform(text)"
   ]
  },
  {
   "cell_type": "code",
   "execution_count": null,
   "metadata": {},
   "outputs": [],
   "source": [
    "Cleaner.transform(text, pontuction=True, accents=False, numbers=False, stopwors=False, lower=False)"
   ]
  },
  {
   "cell_type": "code",
   "execution_count": 44,
   "metadata": {},
   "outputs": [
    {
     "name": "stdout",
     "output_type": "stream",
     "text": [
      "\\r\n"
     ]
    }
   ],
   "source": [
    "print('\\\\r\\\\')"
   ]
  },
  {
   "cell_type": "code",
   "execution_count": 24,
   "metadata": {},
   "outputs": [
    {
     "data": {
      "text/plain": [
       "'Titulo CPI PODERA OUVIR DE NOVO EXMINISTRO Autor Cristiane Jungblut Jailton Carvalho Demetrio Fonte O Globo 03042006 O Pais p 3 Oposicao disposta convocar Palocci espera esclarecimentos Bastos BRASILIA A oposicao esperar depoimento exministro Fazenda Antonio Palocci Policia Federal quartafeira ja anunciava ontem disposicao convocalo voltar CPI Bingos caso insista nao participacao quebra ilegal sigilo bancario caseiro Francenildo Costa Postura cautelosa adotada relacao ministro Justica Marcio Thomaz Bastos diante revelacao que dois assessores estiveram casa Palocci antes divulgacao extrato Parlamentares oposicao acham e preciso esclarecer caso esperam Bastos faca isso ? Temos esperar depoimento Palocci PF Se insistir mentir cabe CPI convocalo O ministro Thomaz Bastos tem dever vir publico esclarecer envolvimento direto assessores ? disse senador Alvaro Dias PSDBPR Para deputado ACM Neto PFLBA ha duvidas que Palocci ordenou quebra sigilo caseiro ? A situacao grave Depois Palocci saiu ministerio situacao deixou ser caso politica ser caso policia Para ele CPI Bingos que investigar quebra sigilo caseiro o fim ? A comissao decidiu convocacao Jorge Mattoso e houver duvida o caso devem chamar Palocci O episodio cada vez proximo ministro ?Se se confirmar ser \\r\\ncoisa grave? diz Garibaldi O relator CPI Bingos senador Garibaldi Alves PMDBRN acha e preciso investigar que exatamente faziam casa Palocci secretario Direito Economico Ministerio Justica Daniel Goldberg o chefe Gabinete Bastos Claudio Alencar 24 horas antecederam divulgacao extrato bancario caseiro Francenildo ? E preciso apurar ver realmente que fazendo senhor Goldberg Se se confirmar ser coisa grave envolvimento assim proprio Ministerio Justica ? disse Garibaldi ? O Ministerio Justica virou escritorio advocacia criminal A CPI Bingos de continuar investigando Nao surpreende Palocci ordenado quebra sigilo ? disse deputado Eduardo Paes PSDBRJ O presidente CPI Bingos senador Efraim Morais PFLPB disse a comissao devera alterar cronograma Amanha prevista acareacao o presidente Sebrae Paulo Okamotto o exsecretario Financas Sao Jose Campos SP Paulo Tarso Venceslau acusa Okamotto envolvimento caixa dois prefeituras petistas Ate quartafeira CPI devera votar requerimento convocando expresidente Caixa Economica Jorge Mattoso Cauteloso as providencias a CPI podera tomar Efraim falou expectativa o depoimento Palocci da necessidade mais detalhes a presenca assessores Ministerio Justica casa dele ? Vamos aguardar fatos decidir e linha Vamos dissecar noticias Para Alvaro Dias trama violar sigilo caseiro passa Planalto que levantaria possibilidade envolvimento presidente Lula Palocci no Planalto teria dado ordem Mattoso levantar movimentacao financeira Francenildo ? O importante tudo e que nesses dias Palocci despachando Planalto que da impressao que Lula sabia ? disse Dias ressalvando porem a PF agido total independenciaDemetrio Weber Cristiane Jungblut Martha Beck'"
      ]
     },
     "execution_count": 24,
     "metadata": {},
     "output_type": "execute_result"
    }
   ],
   "source": [
    "Cleaner.transform(data.html[1], pontuction=True, accents=False, numbers=False, stopwors=False, lower=False)"
   ]
  },
  {
   "cell_type": "code",
   "execution_count": 36,
   "metadata": {},
   "outputs": [
    {
     "name": "stdout",
     "output_type": "stream",
     "text": [
      "CPU times: user 5.78 ms, sys: 3.46 ms, total: 9.24 ms\n",
      "Wall time: 7.1 ms\n"
     ]
    },
    {
     "data": {
      "text/plain": [
       "'titulo sinal verde o trigo eua canada autor doca geralda barros higino fonte o globo  economia p  indefinicao argentinos faz governo zerar aliquota compra outros paises brasilia preocupado um possivel desabastecimento trigo pais causado suspensao exportacoes produto argentina  que provocaria altas inflacao derivados paes macarrao outros tipos massas  governo brasileiro reduziu ontem  zero aliquota imposto importacao trigo a medida vigorar  junho deste ano estara limitada uma quota um milhao toneladas segundo tecnicos ministerio desenvolvimento industria comercio exterior ideia facilitar compra trigo proveniente estados unidos do canada a decisao a reducao imposto tomada apos tregua quase dois anos brigas comerciais os dois paises semana passada argentina havia suspendido exportacoes cereal evitar altas inflacao pais anunciou liberaria venda  milhoes toneladas sendo  mil mes junho deste ano  periodo critico entressafra nacional grao no entanto camara comercio exterior camex as industrias concluiram a proposta argentina dava exclusividade brasil se volume dividido outros mercados que viria ca insuficiente a camex decidido reduzir aliquota importacao sua ultima reuniao dia  nao divulgou aguardar proposta argentina como oferta veio contento ficou acertado que primeiramente medida  publicada ontem diario oficial  valera o fim primeiro semestre os brasileiros consomem media  milhoes toneladas trigo ano o pais produz  milhoes toneladas o restante de trazido exterior a argentina o principal fornecedor em  brasil importou us bilhao trigo  mais no ano anterior luiz martins presidente conselho deliberativo associacao brasileira industria trigo abitrigo comemorou decisao governo para ele reducao tributo pode evitar aumento ate  precos derivados cereal a argentina decidiu suspender acao movia contra brasil organizacao mundial comercio omc que pedia suspensao direitos antidumping aplicados importacoes resinas pet usadas engarrafar bebidas oriundas pais vizinho em nota divulgada ontem itamaraty elogiou decisao lembrou isso foi possivel gracas um acordo bilateral levou autoridades brasileiras retirarem tarifas semana passada'"
      ]
     },
     "execution_count": 36,
     "metadata": {},
     "output_type": "execute_result"
    }
   ],
   "source": [
    "%%time\n",
    "Cleaner.transform(data.html[14])"
   ]
  },
  {
   "cell_type": "code",
   "execution_count": 7,
   "metadata": {},
   "outputs": [],
   "source": [
    "import string"
   ]
  },
  {
   "cell_type": "code",
   "execution_count": 10,
   "metadata": {},
   "outputs": [
    {
     "data": {
      "text/plain": [
       "'!\"#$%&\\'()*+,-./:;<=>?@[\\\\]^_`{|}~'"
      ]
     },
     "execution_count": 10,
     "metadata": {},
     "output_type": "execute_result"
    }
   ],
   "source": [
    "string.punctuation"
   ]
  },
  {
   "cell_type": "code",
   "execution_count": 3,
   "metadata": {},
   "outputs": [],
   "source": [
    "text = 'Lula diz que está \\'lascado\\', mas que ainda tem força como cabo eleitoral Com a possibilidade de uma condenação impedir sua candidatura em 2018, o ex-presidente Luiz Inácio Lula da Silva fez, nesta segunda (9), um discurso inflamado contra a Lava Jato, no qual disse saber que está \"lascado\", exigiu um pedido de desculpas do juiz Sergio Moro e afirmou que, mesmo fora da disputa pelo Planalto, será um cabo eleitoral expressivo para a sucessão de Michel Temer.  Segundo o petista, réu em sete ações penais, o objetivo de Moro é impedir sua candidatura no ano que vem, desidratando-o, inclusive, no apoio a um nome alternativo, como o do ex-prefeito de São Paulo Fernando Haddad (PT), caso ele não possa concorrer à Presidência.  \"Eu sei que tô lascado, todo dia tem um processo. Eu não quero nem que Moro me absolva, eu só quero que ele peça desculpas\", disse Lula durante um seminário sobre educação em Brasília. \"Eles [investigadores] chegam a dizer: \\'Ah, se o Lula não for candidato, ele não vai ter força como cabo eleitoral\\'. Testem\", completou o petista.  Para o ex-presidente, Moro usou \"mentiras contadas pela Polícia Federal e pelo Ministério Público\" para julgá-lo e condená-lo a nove anos e seis meses de prisão pelo caso do tríplex em Guarujá (SP).  O ex-presidente disse ainda não ter \"medo\" dos investigadores que, de acordo com ele, estão acostumados a \"mexer com deputados e senadores\" que temem as apurações.  \"Eu quero que eles saibam o seguinte: se eles estão acostumados a lidar com deputado que tem medo deles, a mexer com senadores que têm medo deles, quero dizer que tenho respeito profundo por quem me respeita, pelas leis que nós ajudamos a criar, mas não tenho respeito por quem não me respeita e eles não me respeitaram\", afirmou o petista.    De acordo com aliados, Lula não gosta de discutir, mesmo que nos bastidores, a chance de não ser candidato ao Planalto e a projeção do nome de Haddad como plano B do PT tem incomodado os mais próximos ao ex-presidente. O ex-prefeito, que estava no evento nesta segunda, fez um discurso rápido, de menos de dez minutos, em que encerrou dizendo esperar que Lula assuma a Presidência em 2019.  \"Espero que dia 1º de janeiro de 2019 esse pesadelo chamado Temer acabe e o senhor assuma a Presidência da República\", disse Haddad.  \\'DEMÔNIO DO MERCADO\\'  Lula voltou a fazer um discurso mais agressivo em relação ao mercado e disse que \"não tem cara de demônio\", mas quer que o respeitem \"como se fosse\".  \"Não tenho cara de demônio, mas quero que eles me respeitem como se eu fosse, porque eles sabem que a economia não vai ficar subordinada ao elitismo da sociedade brasileira\", disse o ex-presidente.  O petista rivalizou ainda com o deputado Jair Bolsonaro (PSC-RJ), segundo colocado nas últimas pesquisas empatado com Marina Silva, e disse que se ele \"agrada ao mercado\", o PT tem que \"desagradar\".  A Folha publicou nesta segunda (9) reportagem em que mostrou que o deputado ensaia movimento ao centro no debate econômico, adotando um discurso simpático aos investidores do mercado financeiro.'"
   ]
  },
  {
   "cell_type": "code",
   "execution_count": 4,
   "metadata": {},
   "outputs": [
    {
     "data": {
      "text/plain": [
       "'Lula diz que está \\'lascado\\', mas que ainda tem força como cabo eleitoral Com a possibilidade de uma condenação impedir sua candidatura em 2018, o ex-presidente Luiz Inácio Lula da Silva fez, nesta segunda (9), um discurso inflamado contra a Lava Jato, no qual disse saber que está \"lascado\", exigiu um pedido de desculpas do juiz Sergio Moro e afirmou que, mesmo fora da disputa pelo Planalto, será um cabo eleitoral expressivo para a sucessão de Michel Temer.  Segundo o petista, réu em sete ações penais, o objetivo de Moro é impedir sua candidatura no ano que vem, desidratando-o, inclusive, no apoio a um nome alternativo, como o do ex-prefeito de São Paulo Fernando Haddad (PT), caso ele não possa concorrer à Presidência.  \"Eu sei que tô lascado, todo dia tem um processo. Eu não quero nem que Moro me absolva, eu só quero que ele peça desculpas\", disse Lula durante um seminário sobre educação em Brasília. \"Eles [investigadores] chegam a dizer: \\'Ah, se o Lula não for candidato, ele não vai ter força como cabo eleitoral\\'. Testem\", completou o petista.  Para o ex-presidente, Moro usou \"mentiras contadas pela Polícia Federal e pelo Ministério Público\" para julgá-lo e condená-lo a nove anos e seis meses de prisão pelo caso do tríplex em Guarujá (SP).  O ex-presidente disse ainda não ter \"medo\" dos investigadores que, de acordo com ele, estão acostumados a \"mexer com deputados e senadores\" que temem as apurações.  \"Eu quero que eles saibam o seguinte: se eles estão acostumados a lidar com deputado que tem medo deles, a mexer com senadores que têm medo deles, quero dizer que tenho respeito profundo por quem me respeita, pelas leis que nós ajudamos a criar, mas não tenho respeito por quem não me respeita e eles não me respeitaram\", afirmou o petista.    De acordo com aliados, Lula não gosta de discutir, mesmo que nos bastidores, a chance de não ser candidato ao Planalto e a projeção do nome de Haddad como plano B do PT tem incomodado os mais próximos ao ex-presidente. O ex-prefeito, que estava no evento nesta segunda, fez um discurso rápido, de menos de dez minutos, em que encerrou dizendo esperar que Lula assuma a Presidência em 2019.  \"Espero que dia 1º de janeiro de 2019 esse pesadelo chamado Temer acabe e o senhor assuma a Presidência da República\", disse Haddad.  \\'DEMÔNIO DO MERCADO\\'  Lula voltou a fazer um discurso mais agressivo em relação ao mercado e disse que \"não tem cara de demônio\", mas quer que o respeitem \"como se fosse\".  \"Não tenho cara de demônio, mas quero que eles me respeitem como se eu fosse, porque eles sabem que a economia não vai ficar subordinada ao elitismo da sociedade brasileira\", disse o ex-presidente.  O petista rivalizou ainda com o deputado Jair Bolsonaro (PSC-RJ), segundo colocado nas últimas pesquisas empatado com Marina Silva, e disse que se ele \"agrada ao mercado\", o PT tem que \"desagradar\".  A Folha publicou nesta segunda (9) reportagem em que mostrou que o deputado ensaia movimento ao centro no debate econômico, adotando um discurso simpático aos investidores do mercado financeiro.'"
      ]
     },
     "execution_count": 4,
     "metadata": {},
     "output_type": "execute_result"
    }
   ],
   "source": [
    "text"
   ]
  },
  {
   "cell_type": "code",
   "execution_count": 1,
   "metadata": {},
   "outputs": [],
   "source": [
    "import pandas as pd\n",
    "data = pd.read_csv(\"data/news.csv\")"
   ]
  },
  {
   "cell_type": "code",
   "execution_count": 44,
   "metadata": {},
   "outputs": [
    {
     "data": {
      "text/plain": [
       "650.0"
      ]
     },
     "execution_count": 44,
     "metadata": {},
     "output_type": "execute_result"
    }
   ],
   "source": [
    "26/1000*25000"
   ]
  },
  {
   "cell_type": "code",
   "execution_count": 16,
   "metadata": {},
   "outputs": [
    {
     "data": {
      "text/plain": [
       "'<p>Título: <b>Contribuição à Previdência deve mudar</b><br/>\\r\\nAutor: Oliveira, Eliane e Barbosa, Flávia<br/>\\r\\nFonte: O Globo, 18/05/2007, Economia, p. 27</p>\\r\\n<p>Pequenas empresas e setores mais eficientes podem pagar conta da desoneração.</p><p>BRASÍLIA e SÃO PAULO. O maior entrave da equipe econômica para desonerar a folha de pagamento das empresas intensivas em mão-de-obra - as mais prejudicadas pelo câmbio - é como compensar a renúncia fiscal resultante da medida. Como já admitiu o ministro da Fazenda, Guido Mantega, caso a desoneração não resulte em aumento das contratações e da arrecadação, o governo terá que elevar algum tributo. Duas possibilidades para equilibrar receitas estão na mesa. </p><p>Uma delas é desonerar a folha para toda a economia e não apenas para as empresas com muitos empregados. A idéia é que a contribuição previdenciária - que hoje incide apenas sobre a folha de pagamento - passe a ser cobrada em parte sobre a folha e em parte sobre o faturamento, reduzindo o custo das empresas. Com isso, quem tem poucos empregados acabaria sendo mais onerado em suas receitas, contribuindo mais para a Previdência, e compensaria eventuais renúncias. </p><p>Outra alternativa é que a desoneração seja apenas para os setores que empregam muito. Neste caso, também está sendo estudada alguma forma de fazer com que os setores mais fortes ajudem a compensar o prejuízo para os cofres públicos. A equipe econômica estuda dar um desconto no pagamento de PIS/Cofins para essas companhias na hora de desonerar a folha de pagamento. Pela proposta, um percentual da folha de pagamento das empresas poderia gerar um crédito a ser abatido do PIS/Cofins pago. </p><p>Ontem, na primeira reunião do Conselho de Desenvolvimento Econômico e Social (CDES) deste ano, o presidente Luiz Inácio Lula da Silva defendeu a proteção da indústria nacional. </p><p>- Nós temos que nos preocupar com as empresas brasileiras. Há setores que vão perdendo competitividade, nós temos que cuidar. A gente não tem que ter medo de dizer que é nacionalista, não - afirmou. </p><p>O presidente cobrou investimentos dos empresários: </p><p>- É preciso que a gente faça política mas, ao mesmo tempo, convença o empresário de que precisa investir em inovação na sua empresa, porque uma das formas de ser competitivo é ter investimento em tecnologia, ser competitivo na qualidade. </p><p>Os setores industriais mais afetados - como o têxtil e de calçados - queixam-se da demora do governo em definir medidas de desoneração. </p><p>O setor têxtil registrou em 2006 déficit comercial pela primeira vez depois de cinco anos e foram cortadas 100 mil vagas. Na indústria de calçados, nos primeiros quatro meses deste ano, seis mil trabalhadores foram dispensados. Nos dois anos anteriores, foram 30 mil. </p><p>COLABORARAM Lino Rodrigues e Ronaldo D\"Ercole </p><p>\\r\\n</p>'"
      ]
     },
     "execution_count": 16,
     "metadata": {},
     "output_type": "execute_result"
    }
   ],
   "source": [
    "data.html[0]"
   ]
  },
  {
   "cell_type": "code",
   "execution_count": null,
   "metadata": {},
   "outputs": [],
   "source": [
    "articles_text = article[['title', 'text']].fillna('').apply(lambda x: ' '.join(x), axis=1)\n",
    "\n",
    "tf_vectorizer  = CountVectorizer(ngram_range=(1,1), min_df=1, max_df=0.5, max_features=100000, lowercase=True, strip_accents = 'unicode')\n",
    "tf_matrix    = tf_vectorizer.fit_transform(vec)"
   ]
  },
  {
   "cell_type": "code",
   "execution_count": 3,
   "metadata": {},
   "outputs": [],
   "source": [
    "import string"
   ]
  },
  {
   "cell_type": "code",
   "execution_count": 6,
   "metadata": {},
   "outputs": [],
   "source": [
    "def remove_punctuation(text: str) -> str:\n",
    "    \"\"\"Removes punctuation \n",
    "\n",
    "    Parameters\n",
    "    ----------\n",
    "    text : string \n",
    "\n",
    "    Returns \n",
    "    ----------\n",
    "    text: string\n",
    "\n",
    "    \"\"\"\n",
    "    text = [word for word in text if word not in string.punctuation]     \n",
    "    text = \"\".join(text) \n",
    "\n",
    "    return text"
   ]
  },
  {
   "cell_type": "code",
   "execution_count": 11,
   "metadata": {},
   "outputs": [
    {
     "data": {
      "text/plain": [
       "'Lula diz que está \\'lascado\\', mas que ainda tem força como cabo eleitoral Com a possibilidade de uma condenação impedir sua candidatura em 2018, o ex-presidente Luiz Inácio Lula da Silva fez, nesta segunda (9), um discurso inflamado contra a Lava Jato, no qual disse saber que está \"lascado\", exigiu um pedido de desculpas do juiz Sergio Moro e afirmou que, mesmo fora da disputa pelo Planalto, será um cabo eleitoral expressivo para a sucessão de Michel Temer.  Segundo o petista, réu em sete ações penais, o objetivo de Moro é impedir sua candidatura no ano que vem, desidratando-o, inclusive, no apoio a um nome alternativo, como o do ex-prefeito de São Paulo Fernando Haddad (PT), caso ele não possa concorrer à Presidência.  \"Eu sei que tô lascado, todo dia tem um processo. Eu não quero nem que Moro me absolva, eu só quero que ele peça desculpas\", disse Lula durante um seminário sobre educação em Brasília. \"Eles [investigadores] chegam a dizer: \\'Ah, se o Lula não for candidato, ele não vai ter força como cabo eleitoral\\'. Testem\", completou o petista.  Para o ex-presidente, Moro usou \"mentiras contadas pela Polícia Federal e pelo Ministério Público\" para julgá-lo e condená-lo a nove anos e seis meses de prisão pelo caso do tríplex em Guarujá (SP).  O ex-presidente disse ainda não ter \"medo\" dos investigadores que, de acordo com ele, estão acostumados a \"mexer com deputados e senadores\" que temem as apurações.  \"Eu quero que eles saibam o seguinte: se eles estão acostumados a lidar com deputado que tem medo deles, a mexer com senadores que têm medo deles, quero dizer que tenho respeito profundo por quem me respeita, pelas leis que nós ajudamos a criar, mas não tenho respeito por quem não me respeita e eles não me respeitaram\", afirmou o petista.    De acordo com aliados, Lula não gosta de discutir, mesmo que nos bastidores, a chance de não ser candidato ao Planalto e a projeção do nome de Haddad como plano B do PT tem incomodado os mais próximos ao ex-presidente. O ex-prefeito, que estava no evento nesta segunda, fez um discurso rápido, de menos de dez minutos, em que encerrou dizendo esperar que Lula assuma a Presidência em 2019.  \"Espero que dia 1º de janeiro de 2019 esse pesadelo chamado Temer acabe e o senhor assuma a Presidência da República\", disse Haddad.  \\'DEMÔNIO DO MERCADO\\'  Lula voltou a fazer um discurso mais agressivo em relação ao mercado e disse que \"não tem cara de demônio\", mas quer que o respeitem \"como se fosse\".  \"Não tenho cara de demônio, mas quero que eles me respeitem como se eu fosse, porque eles sabem que a economia não vai ficar subordinada ao elitismo da sociedade brasileira\", disse o ex-presidente.  O petista rivalizou ainda com o deputado Jair Bolsonaro (PSC-RJ), segundo colocado nas últimas pesquisas empatado com Marina Silva, e disse que se ele \"agrada ao mercado\", o PT tem que \"desagradar\".  A Folha publicou nesta segunda (9) reportagem em que mostrou que o deputado ensaia movimento ao centro no debate econômico, adotando um discurso simpático aos investidores do mercado financeiro.'"
      ]
     },
     "execution_count": 11,
     "metadata": {},
     "output_type": "execute_result"
    }
   ],
   "source": [
    "articles_text[0]"
   ]
  },
  {
   "cell_type": "code",
   "execution_count": 12,
   "metadata": {},
   "outputs": [
    {
     "data": {
      "text/plain": [
       "'Lula diz que está lascado mas que ainda tem força como cabo eleitoral Com a possibilidade de uma condenação impedir sua candidatura em 2018 o expresidente Luiz Inácio Lula da Silva fez nesta segunda 9 um discurso inflamado contra a Lava Jato no qual disse saber que está lascado exigiu um pedido de desculpas do juiz Sergio Moro e afirmou que mesmo fora da disputa pelo Planalto será um cabo eleitoral expressivo para a sucessão de Michel Temer  Segundo o petista réu em sete ações penais o objetivo de Moro é impedir sua candidatura no ano que vem desidratandoo inclusive no apoio a um nome alternativo como o do exprefeito de São Paulo Fernando Haddad PT caso ele não possa concorrer à Presidência  Eu sei que tô lascado todo dia tem um processo Eu não quero nem que Moro me absolva eu só quero que ele peça desculpas disse Lula durante um seminário sobre educação em Brasília Eles investigadores chegam a dizer Ah se o Lula não for candidato ele não vai ter força como cabo eleitoral Testem completou o petista  Para o expresidente Moro usou mentiras contadas pela Polícia Federal e pelo Ministério Público para julgálo e condenálo a nove anos e seis meses de prisão pelo caso do tríplex em Guarujá SP  O expresidente disse ainda não ter medo dos investigadores que de acordo com ele estão acostumados a mexer com deputados e senadores que temem as apurações  Eu quero que eles saibam o seguinte se eles estão acostumados a lidar com deputado que tem medo deles a mexer com senadores que têm medo deles quero dizer que tenho respeito profundo por quem me respeita pelas leis que nós ajudamos a criar mas não tenho respeito por quem não me respeita e eles não me respeitaram afirmou o petista    De acordo com aliados Lula não gosta de discutir mesmo que nos bastidores a chance de não ser candidato ao Planalto e a projeção do nome de Haddad como plano B do PT tem incomodado os mais próximos ao expresidente O exprefeito que estava no evento nesta segunda fez um discurso rápido de menos de dez minutos em que encerrou dizendo esperar que Lula assuma a Presidência em 2019  Espero que dia 1º de janeiro de 2019 esse pesadelo chamado Temer acabe e o senhor assuma a Presidência da República disse Haddad  DEMÔNIO DO MERCADO  Lula voltou a fazer um discurso mais agressivo em relação ao mercado e disse que não tem cara de demônio mas quer que o respeitem como se fosse  Não tenho cara de demônio mas quero que eles me respeitem como se eu fosse porque eles sabem que a economia não vai ficar subordinada ao elitismo da sociedade brasileira disse o expresidente  O petista rivalizou ainda com o deputado Jair Bolsonaro PSCRJ segundo colocado nas últimas pesquisas empatado com Marina Silva e disse que se ele agrada ao mercado o PT tem que desagradar  A Folha publicou nesta segunda 9 reportagem em que mostrou que o deputado ensaia movimento ao centro no debate econômico adotando um discurso simpático aos investidores do mercado financeiro'"
      ]
     },
     "execution_count": 12,
     "metadata": {},
     "output_type": "execute_result"
    }
   ],
   "source": [
    "remove_punctuation(articles_text[0])"
   ]
  },
  {
   "cell_type": "code",
   "execution_count": 14,
   "metadata": {},
   "outputs": [
    {
     "data": {
      "text/plain": [
       "'Lula diz que esta \\'lascado\\', mas que ainda tem forca como cabo eleitoral Com a possibilidade de uma condenacao impedir sua candidatura em 2018, o ex-presidente Luiz Inacio Lula da Silva fez, nesta segunda (9), um discurso inflamado contra a Lava Jato, no qual disse saber que esta \"lascado\", exigiu um pedido de desculpas do juiz Sergio Moro e afirmou que, mesmo fora da disputa pelo Planalto, sera um cabo eleitoral expressivo para a sucessao de Michel Temer.  Segundo o petista, reu em sete acoes penais, o objetivo de Moro e impedir sua candidatura no ano que vem, desidratando-o, inclusive, no apoio a um nome alternativo, como o do ex-prefeito de Sao Paulo Fernando Haddad (PT), caso ele nao possa concorrer a Presidencia.  \"Eu sei que to lascado, todo dia tem um processo. Eu nao quero nem que Moro me absolva, eu so quero que ele peca desculpas\", disse Lula durante um seminario sobre educacao em Brasilia. \"Eles [investigadores] chegam a dizer: \\'Ah, se o Lula nao for candidato, ele nao vai ter forca como cabo eleitoral\\'. Testem\", completou o petista.  Para o ex-presidente, Moro usou \"mentiras contadas pela Policia Federal e pelo Ministerio Publico\" para julga-lo e condena-lo a nove anos e seis meses de prisao pelo caso do triplex em Guaruja (SP).  O ex-presidente disse ainda nao ter \"medo\" dos investigadores que, de acordo com ele, estao acostumados a \"mexer com deputados e senadores\" que temem as apuracoes.  \"Eu quero que eles saibam o seguinte: se eles estao acostumados a lidar com deputado que tem medo deles, a mexer com senadores que tem medo deles, quero dizer que tenho respeito profundo por quem me respeita, pelas leis que nos ajudamos a criar, mas nao tenho respeito por quem nao me respeita e eles nao me respeitaram\", afirmou o petista.    De acordo com aliados, Lula nao gosta de discutir, mesmo que nos bastidores, a chance de nao ser candidato ao Planalto e a projecao do nome de Haddad como plano B do PT tem incomodado os mais proximos ao ex-presidente. O ex-prefeito, que estava no evento nesta segunda, fez um discurso rapido, de menos de dez minutos, em que encerrou dizendo esperar que Lula assuma a Presidencia em 2019.  \"Espero que dia 1o de janeiro de 2019 esse pesadelo chamado Temer acabe e o senhor assuma a Presidencia da Republica\", disse Haddad.  \\'DEMONIO DO MERCADO\\'  Lula voltou a fazer um discurso mais agressivo em relacao ao mercado e disse que \"nao tem cara de demonio\", mas quer que o respeitem \"como se fosse\".  \"Nao tenho cara de demonio, mas quero que eles me respeitem como se eu fosse, porque eles sabem que a economia nao vai ficar subordinada ao elitismo da sociedade brasileira\", disse o ex-presidente.  O petista rivalizou ainda com o deputado Jair Bolsonaro (PSC-RJ), segundo colocado nas ultimas pesquisas empatado com Marina Silva, e disse que se ele \"agrada ao mercado\", o PT tem que \"desagradar\".  A Folha publicou nesta segunda (9) reportagem em que mostrou que o deputado ensaia movimento ao centro no debate economico, adotando um discurso simpatico aos investidores do mercado financeiro.'"
      ]
     },
     "execution_count": 14,
     "metadata": {},
     "output_type": "execute_result"
    }
   ],
   "source": [
    "unidecode(articles_text[0])"
   ]
  },
  {
   "cell_type": "code",
   "execution_count": 13,
   "metadata": {},
   "outputs": [],
   "source": [
    "from unidecode import unidecode"
   ]
  },
  {
   "cell_type": "code",
   "execution_count": 42,
   "metadata": {},
   "outputs": [
    {
     "data": {
      "text/plain": [
       "'!\"#$%&\\'()*+,-./:;<=>?@[\\\\]^_`{|}~'"
      ]
     },
     "execution_count": 42,
     "metadata": {},
     "output_type": "execute_result"
    }
   ],
   "source": [
    "import string\n",
    "string.punctuation"
   ]
  },
  {
   "cell_type": "code",
   "execution_count": 16,
   "metadata": {},
   "outputs": [
    {
     "data": {
      "text/plain": [
       "32"
      ]
     },
     "execution_count": 16,
     "metadata": {},
     "output_type": "execute_result"
    }
   ],
   "source": [
    "len('!\"#$%&\\'()*+,-./:;<=>?@[\\\\]^_`{|}~')"
   ]
  },
  {
   "cell_type": "code",
   "execution_count": 27,
   "metadata": {},
   "outputs": [
    {
     "data": {
      "text/plain": [
       "'Lula diz que está \\'lascado\\', mas que ainda tem força como cabo eleitoral Com a possibilidade de uma condenação impedir sua candidatura em 2018, o ex-presidente Luiz Inácio Lula da Silva fez, nesta segunda (9), um discurso inflamado contra a Lava Jato, no qual disse saber que está \"lascado\", exigiu um pedido de desculpas do juiz Sergio Moro e afirmou que, mesmo fora da disputa pelo Planalto, será um cabo eleitoral expressivo para a sucessão de Michel Temer.  Segundo o petista, réu em sete ações penais, o objetivo de Moro é impedir sua candidatura no ano que vem, desidratando-o, inclusive, no apoio a um nome alternativo, como o do ex-prefeito de São Paulo Fernando Haddad (PT), caso ele não possa concorrer à Presidência.  \"Eu sei que tô lascado, todo dia tem um processo. Eu não quero nem que Moro me absolva, eu só quero que ele peça desculpas\", disse Lula durante um seminário sobre educação em Brasília. \"Eles [investigadores] chegam a dizer: \\'Ah, se o Lula não for candidato, ele não vai ter força como cabo eleitoral\\'. Testem\", completou o petista.  Para o ex-presidente, Moro usou \"mentiras contadas pela Polícia Federal e pelo Ministério Público\" para julgá-lo e condená-lo a nove anos e seis meses de prisão pelo caso do tríplex em Guarujá (SP).  O ex-presidente disse ainda não ter \"medo\" dos investigadores que, de acordo com ele, estão acostumados a \"mexer com deputados e senadores\" que temem as apurações.  \"Eu quero que eles saibam o seguinte: se eles estão acostumados a lidar com deputado que tem medo deles, a mexer com senadores que têm medo deles, quero dizer que tenho respeito profundo por quem me respeita, pelas leis que nós ajudamos a criar, mas não tenho respeito por quem não me respeita e eles não me respeitaram\", afirmou o petista.    De acordo com aliados, Lula não gosta de discutir, mesmo que nos bastidores, a chance de não ser candidato ao Planalto e a projeção do nome de Haddad como plano B do PT tem incomodado os mais próximos ao ex-presidente. O ex-prefeito, que estava no evento nesta segunda, fez um discurso rápido, de menos de dez minutos, em que encerrou dizendo esperar que Lula assuma a Presidência em 2019.  \"Espero que dia 1º de janeiro de 2019 esse pesadelo chamado Temer acabe e o senhor assuma a Presidência da República\", disse Haddad.  \\'DEMÔNIO DO MERCADO\\'  Lula voltou a fazer um discurso mais agressivo em relação ao mercado e disse que \"não tem cara de demônio\", mas quer que o respeitem \"como se fosse\".  \"Não tenho cara de demônio, mas quero que eles me respeitem como se eu fosse, porque eles sabem que a economia não vai ficar subordinada ao elitismo da sociedade brasileira\", disse o ex-presidente.  O petista rivalizou ainda com o deputado Jair Bolsonaro (PSC-RJ), segundo colocado nas últimas pesquisas empatado com Marina Silva, e disse que se ele \"agrada ao mercado\", o PT tem que \"desagradar\".  A Folha publicou nesta segunda (9) reportagem em que mostrou que o deputado ensaia movimento ao centro no debate econômico, adotando um discurso simpático aos investidores do mercado financeiro.'"
      ]
     },
     "execution_count": 27,
     "metadata": {},
     "output_type": "execute_result"
    }
   ],
   "source": [
    "articles_text[0]"
   ]
  },
  {
   "cell_type": "code",
   "execution_count": 41,
   "metadata": {},
   "outputs": [
    {
     "data": {
      "text/plain": [
       "'Lula diz que está lascado mas que ainda tem força como cabo eleitoral Com a possibilidade de uma condenação impedir sua candidatura em 2018 o expresidente Luiz Inácio Lula da Silva fez nesta segunda 9 um discurso inflamado contra a Lava Jato no qual disse saber que está lascado exigiu um pedido de desculpas do juiz Sergio Moro e afirmou que mesmo fora da disputa pelo Planalto será um cabo eleitoral expressivo para a sucessão de Michel Temer  Segundo o petista réu em sete ações penais o objetivo de Moro é impedir sua candidatura no ano que vem desidratandoo inclusive no apoio a um nome alternativo como o do exprefeito de São Paulo Fernando Haddad PT caso ele não possa concorrer à Presidência  Eu sei que tô lascado todo dia tem um processo Eu não quero nem que Moro me absolva eu só quero que ele peça desculpas disse Lula durante um seminário sobre educação em Brasília Eles investigadores chegam a dizer Ah se o Lula não for candidato ele não vai ter força como cabo eleitoral Testem completou o petista  Para o expresidente Moro usou mentiras contadas pela Polícia Federal e pelo Ministério Público para julgálo e condenálo a nove anos e seis meses de prisão pelo caso do tríplex em Guarujá SP  O expresidente disse ainda não ter medo dos investigadores que de acordo com ele estão acostumados a mexer com deputados e senadores que temem as apurações  Eu quero que eles saibam o seguinte se eles estão acostumados a lidar com deputado que tem medo deles a mexer com senadores que têm medo deles quero dizer que tenho respeito profundo por quem me respeita pelas leis que nós ajudamos a criar mas não tenho respeito por quem não me respeita e eles não me respeitaram afirmou o petista    De acordo com aliados Lula não gosta de discutir mesmo que nos bastidores a chance de não ser candidato ao Planalto e a projeção do nome de Haddad como plano B do PT tem incomodado os mais próximos ao expresidente O exprefeito que estava no evento nesta segunda fez um discurso rápido de menos de dez minutos em que encerrou dizendo esperar que Lula assuma a Presidência em 2019  Espero que dia 1º de janeiro de 2019 esse pesadelo chamado Temer acabe e o senhor assuma a Presidência da República disse Haddad  DEMÔNIO DO MERCADO  Lula voltou a fazer um discurso mais agressivo em relação ao mercado e disse que não tem cara de demônio mas quer que o respeitem como se fosse  Não tenho cara de demônio mas quero que eles me respeitem como se eu fosse porque eles sabem que a economia não vai ficar subordinada ao elitismo da sociedade brasileira disse o expresidente  O petista rivalizou ainda com o deputado Jair Bolsonaro PSCRJ segundo colocado nas últimas pesquisas empatado com Marina Silva e disse que se ele agrada ao mercado o PT tem que desagradar  A Folha publicou nesta segunda 9 reportagem em que mostrou que o deputado ensaia movimento ao centro no debate econômico adotando um discurso simpático aos investidores do mercado financeiro'"
      ]
     },
     "execution_count": 41,
     "metadata": {},
     "output_type": "execute_result"
    }
   ],
   "source": [
    "text"
   ]
  },
  {
   "cell_type": "code",
   "execution_count": 40,
   "metadata": {},
   "outputs": [
    {
     "name": "stdout",
     "output_type": "stream",
     "text": [
      "CPU times: user 299 µs, sys: 65 µs, total: 364 µs\n",
      "Wall time: 369 µs\n"
     ]
    }
   ],
   "source": [
    "%%time\n",
    "text = articles_text[0]\n",
    "pont_chars = string.punctuation\n",
    "pont = dict(zip(pont_chars, [''] * len(pont_chars)))\n",
    "pont = dict((re.escape(k), v) for k, v in pont.items()) \n",
    "pattern = re.compile(\"|\".join(pont.keys()))\n",
    "text = pattern.sub(lambda m: pont[re.escape(m.group(0))], text)"
   ]
  },
  {
   "cell_type": "code",
   "execution_count": 31,
   "metadata": {},
   "outputs": [],
   "source": [
    "pont = dict(zip(pont_chars, [' '] * len(pont_chars)))"
   ]
  },
  {
   "cell_type": "code",
   "execution_count": 33,
   "metadata": {},
   "outputs": [
    {
     "ename": "AttributeError",
     "evalue": "'dict' object has no attribute 'iteritems'",
     "output_type": "error",
     "traceback": [
      "\u001b[0;31m---------------------------------------------------------------------------\u001b[0m",
      "\u001b[0;31mAttributeError\u001b[0m                            Traceback (most recent call last)",
      "\u001b[0;32m<ipython-input-33-6f566a62a553>\u001b[0m in \u001b[0;36m<module>\u001b[0;34m\u001b[0m\n\u001b[0;32m----> 1\u001b[0;31m \u001b[0mpont\u001b[0m \u001b[0;34m=\u001b[0m \u001b[0mdict\u001b[0m\u001b[0;34m(\u001b[0m\u001b[0;34m(\u001b[0m\u001b[0mre\u001b[0m\u001b[0;34m.\u001b[0m\u001b[0mescape\u001b[0m\u001b[0;34m(\u001b[0m\u001b[0mk\u001b[0m\u001b[0;34m)\u001b[0m\u001b[0;34m,\u001b[0m \u001b[0mv\u001b[0m\u001b[0;34m)\u001b[0m \u001b[0;32mfor\u001b[0m \u001b[0mk\u001b[0m\u001b[0;34m,\u001b[0m \u001b[0mv\u001b[0m \u001b[0;32min\u001b[0m \u001b[0mpont\u001b[0m\u001b[0;34m.\u001b[0m\u001b[0miteritems\u001b[0m\u001b[0;34m(\u001b[0m\u001b[0;34m)\u001b[0m\u001b[0;34m)\u001b[0m\u001b[0;34m\u001b[0m\u001b[0;34m\u001b[0m\u001b[0m\n\u001b[0m",
      "\u001b[0;31mAttributeError\u001b[0m: 'dict' object has no attribute 'iteritems'"
     ]
    }
   ],
   "source": [
    "pont = dict((re.escape(k), v) for k, v in pont.iteritems()) "
   ]
  },
  {
   "cell_type": "code",
   "execution_count": 32,
   "metadata": {},
   "outputs": [
    {
     "data": {
      "text/plain": [
       "{'!': ' ',\n",
       " '\"': ' ',\n",
       " '#': ' ',\n",
       " '$': ' ',\n",
       " '%': ' ',\n",
       " '&': ' ',\n",
       " \"'\": ' ',\n",
       " '(': ' ',\n",
       " ')': ' ',\n",
       " '*': ' ',\n",
       " '+': ' ',\n",
       " ',': ' ',\n",
       " '-': ' ',\n",
       " '.': ' ',\n",
       " '/': ' ',\n",
       " ':': ' ',\n",
       " ';': ' ',\n",
       " '<': ' ',\n",
       " '=': ' ',\n",
       " '>': ' ',\n",
       " '?': ' ',\n",
       " '@': ' ',\n",
       " '[': ' ',\n",
       " '\\\\': ' ',\n",
       " ']': ' ',\n",
       " '^': ' ',\n",
       " '_': ' ',\n",
       " '`': ' ',\n",
       " '{': ' ',\n",
       " '|': ' ',\n",
       " '}': ' ',\n",
       " '~': ' '}"
      ]
     },
     "execution_count": 32,
     "metadata": {},
     "output_type": "execute_result"
    }
   ],
   "source": [
    "pont"
   ]
  },
  {
   "cell_type": "code",
   "execution_count": 24,
   "metadata": {},
   "outputs": [],
   "source": [
    "import re\n",
    "rep = {\"condition1\": \"\", \"condition2\": \"text\"} # define desired replacements here\n",
    "\n",
    "# use these three lines to do the replacement\n",
    "rep = dict((re.escape(k), v) for k, v in rep.items()) "
   ]
  },
  {
   "cell_type": "code",
   "execution_count": 26,
   "metadata": {},
   "outputs": [
    {
     "data": {
      "text/plain": [
       "True"
      ]
     },
     "execution_count": 26,
     "metadata": {},
     "output_type": "execute_result"
    }
   ],
   "source": [
    "rep == {\"condition1\": \"\", \"condition2\": \"text\"}"
   ]
  },
  {
   "cell_type": "code",
   "execution_count": null,
   "metadata": {},
   "outputs": [],
   "source": [
    "import re\n",
    "\n",
    "rep = {\"condition1\": \"\", \"condition2\": \"text\"} # define desired replacements here\n",
    "\n",
    "# use these three lines to do the replacement\n",
    "rep = dict((re.escape(k), v) for k, v in rep.iteritems()) \n",
    "#Python 3 renamed dict.iteritems to dict.items so use rep.items() for latest versions\n",
    "pattern = re.compile(\"|\".join(rep.keys()))\n",
    "text = pattern.sub(lambda m: rep[re.escape(m.group(0))], text)"
   ]
  },
  {
   "cell_type": "code",
   "execution_count": null,
   "metadata": {},
   "outputs": [],
   "source": []
  },
  {
   "cell_type": "code",
   "execution_count": null,
   "metadata": {},
   "outputs": [],
   "source": []
  },
  {
   "cell_type": "code",
   "execution_count": null,
   "metadata": {},
   "outputs": [],
   "source": []
  },
  {
   "cell_type": "code",
   "execution_count": 4,
   "metadata": {},
   "outputs": [],
   "source": []
  },
  {
   "cell_type": "code",
   "execution_count": 5,
   "metadata": {},
   "outputs": [],
   "source": []
  },
  {
   "cell_type": "code",
   "execution_count": 7,
   "metadata": {},
   "outputs": [
    {
     "data": {
      "text/plain": [
       "'Lula diz que está \\'lascado\\', mas que ainda tem força como cabo eleitoral Com a possibilidade de uma condenação impedir sua candidatura em 2018, o ex-presidente Luiz Inácio Lula da Silva fez, nesta segunda (9), um discurso inflamado contra a Lava Jato, no qual disse saber que está \"lascado\", exigiu um pedido de desculpas do juiz Sergio Moro e afirmou que, mesmo fora da disputa pelo Planalto, será um cabo eleitoral expressivo para a sucessão de Michel Temer.  Segundo o petista, réu em sete ações penais, o objetivo de Moro é impedir sua candidatura no ano que vem, desidratando-o, inclusive, no apoio a um nome alternativo, como o do ex-prefeito de São Paulo Fernando Haddad (PT), caso ele não possa concorrer à Presidência.  \"Eu sei que tô lascado, todo dia tem um processo. Eu não quero nem que Moro me absolva, eu só quero que ele peça desculpas\", disse Lula durante um seminário sobre educação em Brasília. \"Eles [investigadores] chegam a dizer: \\'Ah, se o Lula não for candidato, ele não vai ter força como cabo eleitoral\\'. Testem\", completou o petista.  Para o ex-presidente, Moro usou \"mentiras contadas pela Polícia Federal e pelo Ministério Público\" para julgá-lo e condená-lo a nove anos e seis meses de prisão pelo caso do tríplex em Guarujá (SP).  O ex-presidente disse ainda não ter \"medo\" dos investigadores que, de acordo com ele, estão acostumados a \"mexer com deputados e senadores\" que temem as apurações.  \"Eu quero que eles saibam o seguinte: se eles estão acostumados a lidar com deputado que tem medo deles, a mexer com senadores que têm medo deles, quero dizer que tenho respeito profundo por quem me respeita, pelas leis que nós ajudamos a criar, mas não tenho respeito por quem não me respeita e eles não me respeitaram\", afirmou o petista.    De acordo com aliados, Lula não gosta de discutir, mesmo que nos bastidores, a chance de não ser candidato ao Planalto e a projeção do nome de Haddad como plano B do PT tem incomodado os mais próximos ao ex-presidente. O ex-prefeito, que estava no evento nesta segunda, fez um discurso rápido, de menos de dez minutos, em que encerrou dizendo esperar que Lula assuma a Presidência em 2019.  \"Espero que dia 1º de janeiro de 2019 esse pesadelo chamado Temer acabe e o senhor assuma a Presidência da República\", disse Haddad.  \\'DEMÔNIO DO MERCADO\\'  Lula voltou a fazer um discurso mais agressivo em relação ao mercado e disse que \"não tem cara de demônio\", mas quer que o respeitem \"como se fosse\".  \"Não tenho cara de demônio, mas quero que eles me respeitem como se eu fosse, porque eles sabem que a economia não vai ficar subordinada ao elitismo da sociedade brasileira\", disse o ex-presidente.  O petista rivalizou ainda com o deputado Jair Bolsonaro (PSC-RJ), segundo colocado nas últimas pesquisas empatado com Marina Silva, e disse que se ele \"agrada ao mercado\", o PT tem que \"desagradar\".  A Folha publicou nesta segunda (9) reportagem em que mostrou que o deputado ensaia movimento ao centro no debate econômico, adotando um discurso simpático aos investidores do mercado financeiro.'"
      ]
     },
     "execution_count": 7,
     "metadata": {},
     "output_type": "execute_result"
    }
   ],
   "source": [
    "\n",
    "text"
   ]
  },
  {
   "cell_type": "code",
   "execution_count": 8,
   "metadata": {},
   "outputs": [
    {
     "ename": "TypeError",
     "evalue": "strip_stopwords() missing 1 required positional argument: 'text'",
     "output_type": "error",
     "traceback": [
      "\u001b[0;31m---------------------------------------------------------------------------\u001b[0m",
      "\u001b[0;31mTypeError\u001b[0m                                 Traceback (most recent call last)",
      "\u001b[0;32m<ipython-input-8-908ddc5037cf>\u001b[0m in \u001b[0;36m<module>\u001b[0;34m\u001b[0m\n\u001b[0;32m----> 1\u001b[0;31m \u001b[0mCleaner\u001b[0m\u001b[0;34m.\u001b[0m\u001b[0mtransform\u001b[0m\u001b[0;34m(\u001b[0m\u001b[0mtext\u001b[0m\u001b[0;34m,\u001b[0m \u001b[0mhtml\u001b[0m\u001b[0;34m=\u001b[0m\u001b[0;32mFalse\u001b[0m\u001b[0;34m)\u001b[0m\u001b[0;34m\u001b[0m\u001b[0;34m\u001b[0m\u001b[0m\n\u001b[0m",
      "\u001b[0;32m~/Documents/nlp_blog/src/utils/preprocess.py\u001b[0m in \u001b[0;36mtransform\u001b[0;34m(cls, text, pontuction, accents, numbers, stopwors, html)\u001b[0m\n\u001b[1;32m     61\u001b[0m     \u001b[0;32mdef\u001b[0m \u001b[0mtransform\u001b[0m\u001b[0;34m(\u001b[0m\u001b[0mcls\u001b[0m\u001b[0;34m,\u001b[0m \u001b[0mtext\u001b[0m\u001b[0;34m,\u001b[0m \u001b[0mpontuction\u001b[0m\u001b[0;34m=\u001b[0m\u001b[0;32mTrue\u001b[0m\u001b[0;34m,\u001b[0m \u001b[0maccents\u001b[0m\u001b[0;34m=\u001b[0m\u001b[0;32mTrue\u001b[0m\u001b[0;34m,\u001b[0m \u001b[0mnumbers\u001b[0m\u001b[0;34m=\u001b[0m\u001b[0;32mTrue\u001b[0m\u001b[0;34m,\u001b[0m \u001b[0mstopwors\u001b[0m\u001b[0;34m=\u001b[0m\u001b[0;32mTrue\u001b[0m\u001b[0;34m,\u001b[0m \u001b[0mhtml\u001b[0m\u001b[0;34m=\u001b[0m\u001b[0;32mTrue\u001b[0m\u001b[0;34m)\u001b[0m\u001b[0;34m:\u001b[0m\u001b[0;34m\u001b[0m\u001b[0;34m\u001b[0m\u001b[0m\n\u001b[1;32m     62\u001b[0m         \u001b[0;32mif\u001b[0m \u001b[0mhtml\u001b[0m\u001b[0;34m:\u001b[0m \u001b[0mtext\u001b[0m \u001b[0;34m=\u001b[0m \u001b[0mcls\u001b[0m\u001b[0;34m.\u001b[0m\u001b[0mcleaner_html\u001b[0m\u001b[0;34m(\u001b[0m\u001b[0mtext\u001b[0m\u001b[0;34m)\u001b[0m\u001b[0;34m\u001b[0m\u001b[0;34m\u001b[0m\u001b[0m\n\u001b[0;32m---> 63\u001b[0;31m         \u001b[0;32mif\u001b[0m \u001b[0mstop_words\u001b[0m\u001b[0;34m:\u001b[0m \u001b[0mtext\u001b[0m \u001b[0;34m=\u001b[0m \u001b[0mcls\u001b[0m\u001b[0;34m.\u001b[0m\u001b[0mstrip_stopwords\u001b[0m\u001b[0;34m(\u001b[0m\u001b[0mtext\u001b[0m\u001b[0;34m)\u001b[0m\u001b[0;34m\u001b[0m\u001b[0;34m\u001b[0m\u001b[0m\n\u001b[0m\u001b[1;32m     64\u001b[0m         \u001b[0;32mif\u001b[0m \u001b[0mpontuction\u001b[0m\u001b[0;34m:\u001b[0m \u001b[0mtext\u001b[0m \u001b[0;34m=\u001b[0m \u001b[0mcls\u001b[0m\u001b[0;34m.\u001b[0m\u001b[0mstrip_punctuation\u001b[0m\u001b[0;34m(\u001b[0m\u001b[0mtext\u001b[0m\u001b[0;34m)\u001b[0m\u001b[0;34m\u001b[0m\u001b[0;34m\u001b[0m\u001b[0m\n\u001b[1;32m     65\u001b[0m         \u001b[0;32mif\u001b[0m \u001b[0maccents\u001b[0m\u001b[0;34m:\u001b[0m \u001b[0mtext\u001b[0m \u001b[0;34m=\u001b[0m \u001b[0mcls\u001b[0m\u001b[0;34m.\u001b[0m\u001b[0mremove_accents\u001b[0m\u001b[0;34m(\u001b[0m\u001b[0mtext\u001b[0m\u001b[0;34m)\u001b[0m\u001b[0;34m\u001b[0m\u001b[0;34m\u001b[0m\u001b[0m\n",
      "\u001b[0;31mTypeError\u001b[0m: strip_stopwords() missing 1 required positional argument: 'text'"
     ]
    }
   ],
   "source": [
    "Cleaner.transform(text, html=False)"
   ]
  },
  {
   "cell_type": "code",
   "execution_count": 7,
   "metadata": {},
   "outputs": [
    {
     "data": {
      "text/plain": [
       "re.compile(r'\\ do\\ |\\ da\\ |\\ em\\ |\\ um\\ |\\ de\\ |\\ a\\ |\\ o\\ |\\ que\\ |\\ e\\ |\\ para\\ |\\ é\\ |\\ com\\ |\\ não\\ |\\ nao\\ |\\ uma\\ |\\ os\\ |\\ no\\ |\\ se\\ |\\ na\\ |\\ por\\ |\\ mas\\ |\\ foi\\ |\\ ao\\ |\\ ele\\ |\\ das\\ |\\ tem\\ |\\ à\\ |\\ mais\\ |\\ as\\ |\\ dos\\ |\\ como\\ |\\ seu\\ |\\ sua\\ |\\ ou\\ |\\ ser\\ |\\ quando\\ |\\ muito\\ |\\ há\\ |\\ nos\\ |\\ já\\ |\\ está\\ |\\ eu\\ |\\ também\\ |\\ só\\ |\\ pelo\\ |\\ pela\\ |\\ até\\ |\\ isso\\ |\\ ela\\ |\\ entre\\ |\\ era\\ |\\ depois\\ |\\ sem\\ |\\ mesmo\\ |\\ aos\\ |\\ ter\\ |\\ seus\\ |\\ quem\\ |\\ nas\\ |\\ me\\ |\\ esse\\ |\\ eles\\ |\\ estão\\ |\\ você\\ |\\ tinha\\ |\\ foram\\ |\\ essa\\ |\\ num\\ |\\ nem\\ |\\ suas\\ |\\ meu\\ |\\ às\\ |\\ minha\\ |\\ têm\\ |\\ numa\\ |\\ pelos\\ |\\ elas\\ |\\ havia\\ |\\ seja\\ |\\ qual\\ |\\ será\\ |\\ nós\\ |\\ tenho\\ |\\ lhe\\ |\\ deles\\ |\\ essas\\ |\\ esses\\ |\\ pelas\\ |\\ este\\ |\\ fosse\\ |\\ dele\\ |\\ tu\\ |\\ tudo\\ |\\ te\\ |\\ vocês\\ |\\ vos\\ |\\ lhes\\ |\\ meus\\ |\\ minhas\\ |\\ teu\\ |\\ tua\\ |\\ teus\\ |\\ tuas\\ |\\ nosso\\ |\\ nossa\\ |\\ nossos\\ |\\ nossas\\ |\\ dela\\ |\\ delas\\ |\\ esta\\ |\\ estes\\ |\\ estas\\ |\\ aquele\\ |\\ aquela\\ |\\ aqueles\\ |\\ aquelas\\ |\\ isto\\ |\\ aquilo\\ |\\ estou\\ |\\ estamos\\ |\\ estive\\ |\\ esteve\\ |\\ estivemos\\ |\\ estiveram\\ |\\ estava\\ |\\ estávamos\\ |\\ estavam\\ |\\ estivera\\ |\\ estivéramos\\ |\\ esteja\\ |\\ estejamos\\ |\\ estejam\\ |\\ estivesse\\ |\\ estivéssemos\\ |\\ estivessem\\ |\\ estiver\\ |\\ estivermos\\ |\\ estiverem\\ |\\ hei\\ |\\ havemos\\ |\\ hão\\ |\\ houve\\ |\\ houvemos\\ |\\ houveram\\ |\\ houvera\\ |\\ houvéramos\\ |\\ haja\\ |\\ hajamos\\ |\\ hajam\\ |\\ houvesse\\ |\\ houvéssemos\\ |\\ houvessem\\ |\\ houver\\ |\\ houvermos\\ |\\ houverem\\ |\\ houverei\\ |\\ houverá\\ |\\ houveremos\\ |\\ houverão\\ |\\ houveria\\ |\\ houveríamos\\ |\\ houveriam\\ |\\ sou\\ |\\ somos\\ |\\ são\\ |\\ éramos\\ |\\ eram\\ |\\ fui\\ |\\ fomos\\ |\\ fora\\ |\\ fôramos\\ |\\ sejamos\\ |\\ sejam\\ |\\ fôssemos\\ |\\ fossem\\ |\\ for\\ |\\ formos\\ |\\ forem\\ |\\ serei\\ |\\ seremos\\ |\\ serão\\ |\\ seria\\ |\\ seríamos\\ |\\ seriam\\ |\\ sobre\\ |\\ temos\\ |\\ tém\\ |\\ tínhamos\\ |\\ tinham\\ |\\ tive\\ |\\ teve\\ |\\ tivemos\\ |\\ tiveram\\ |\\ tivera\\ |\\ tivéramos\\ |\\ tenha\\ |\\ tenhamos\\ |\\ tenham\\ |\\ tivesse\\ |\\ tivéssemos\\ |\\ tivessem\\ |\\ tiver\\ |\\ tivermos\\ |\\ tiverem\\ |\\ terei\\ |\\ terá\\ |\\ teremos\\ |\\ terão\\ |\\ teria\\ |\\ teríamos\\ |\\ teriam\\ |\\ vai\\ ',\n",
       "re.UNICODE)"
      ]
     },
     "execution_count": 7,
     "metadata": {},
     "output_type": "execute_result"
    }
   ],
   "source": [
    "Cleaner.pattern_stopwords"
   ]
  },
  {
   "cell_type": "code",
   "execution_count": null,
   "metadata": {},
   "outputs": [],
   "source": [
    "preprocess.class TextCleaner():\n"
   ]
  },
  {
   "cell_type": "code",
   "execution_count": 13,
   "metadata": {},
   "outputs": [],
   "source": [
    "text = articles_text[0]"
   ]
  },
  {
   "cell_type": "code",
   "execution_count": null,
   "metadata": {},
   "outputs": [],
   "source": []
  },
  {
   "cell_type": "code",
   "execution_count": null,
   "metadata": {},
   "outputs": [],
   "source": []
  },
  {
   "cell_type": "code",
   "execution_count": null,
   "metadata": {},
   "outputs": [],
   "source": []
  },
  {
   "cell_type": "code",
   "execution_count": null,
   "metadata": {},
   "outputs": [],
   "source": []
  },
  {
   "cell_type": "code",
   "execution_count": 45,
   "metadata": {},
   "outputs": [
    {
     "data": {
      "text/plain": [
       "'Lula diz que está lascado mas que ainda tem força como cabo eleitoral Com a possibilidade de uma condenação impedir sua candidatura em 2018 o expresidente Luiz Inácio Lula da Silva fez nesta segunda 9 um discurso inflamado contra a Lava Jato no qual disse saber que está lascado exigiu um pedido de desculpas do juiz Sergio Moro e afirmou que mesmo fora da disputa pelo Planalto será um cabo eleitoral expressivo para a sucessão de Michel Temer  Segundo o petista réu em sete ações penais o objetivo de Moro é impedir sua candidatura no ano que vem desidratandoo inclusive no apoio a um nome alternativo como o do exprefeito de São Paulo Fernando Haddad PT caso ele não possa concorrer à Presidência  Eu sei que tô lascado todo dia tem um processo Eu não quero nem que Moro me absolva eu só quero que ele peça desculpas disse Lula durante um seminário sobre educação em Brasília Eles investigadores chegam a dizer Ah se o Lula não for candidato ele não vai ter força como cabo eleitoral Testem completou o petista  Para o expresidente Moro usou mentiras contadas pela Polícia Federal e pelo Ministério Público para julgálo e condenálo a nove anos e seis meses de prisão pelo caso do tríplex em Guarujá SP  O expresidente disse ainda não ter medo dos investigadores que de acordo com ele estão acostumados a mexer com deputados e senadores que temem as apurações  Eu quero que eles saibam o seguinte se eles estão acostumados a lidar com deputado que tem medo deles a mexer com senadores que têm medo deles quero dizer que tenho respeito profundo por quem me respeita pelas leis que nós ajudamos a criar mas não tenho respeito por quem não me respeita e eles não me respeitaram afirmou o petista    De acordo com aliados Lula não gosta de discutir mesmo que nos bastidores a chance de não ser candidato ao Planalto e a projeção do nome de Haddad como plano B do PT tem incomodado os mais próximos ao expresidente O exprefeito que estava no evento nesta segunda fez um discurso rápido de menos de dez minutos em que encerrou dizendo esperar que Lula assuma a Presidência em 2019  Espero que dia 1º de janeiro de 2019 esse pesadelo chamado Temer acabe e o senhor assuma a Presidência da República disse Haddad  DEMÔNIO DO MERCADO  Lula voltou a fazer um discurso mais agressivo em relação ao mercado e disse que não tem cara de demônio mas quer que o respeitem como se fosse  Não tenho cara de demônio mas quero que eles me respeitem como se eu fosse porque eles sabem que a economia não vai ficar subordinada ao elitismo da sociedade brasileira disse o expresidente  O petista rivalizou ainda com o deputado Jair Bolsonaro PSCRJ segundo colocado nas últimas pesquisas empatado com Marina Silva e disse que se ele agrada ao mercado o PT tem que desagradar  A Folha publicou nesta segunda 9 reportagem em que mostrou que o deputado ensaia movimento ao centro no debate econômico adotando um discurso simpático aos investidores do mercado financeiro'"
      ]
     },
     "execution_count": 45,
     "metadata": {},
     "output_type": "execute_result"
    }
   ],
   "source": [
    "text"
   ]
  },
  {
   "cell_type": "code",
   "execution_count": 46,
   "metadata": {},
   "outputs": [
    {
     "name": "stdout",
     "output_type": "stream",
     "text": [
      "Lula diz que está lascado mas que ainda tem força como cabo eleitoral Com a possibilidade de uma condenação impedir sua candidatura em  o expresidente Luiz Inácio Lula da Silva fez nesta segunda  um discurso inflamado contra a Lava Jato no qual disse saber que está lascado exigiu um pedido de desculpas do juiz Sergio Moro e afirmou que mesmo fora da disputa pelo Planalto será um cabo eleitoral expressivo para a sucessão de Michel Temer  Segundo o petista réu em sete ações penais o objetivo de Moro é impedir sua candidatura no ano que vem desidratandoo inclusive no apoio a um nome alternativo como o do exprefeito de São Paulo Fernando Haddad PT caso ele não possa concorrer à Presidência  Eu sei que tô lascado todo dia tem um processo Eu não quero nem que Moro me absolva eu só quero que ele peça desculpas disse Lula durante um seminário sobre educação em Brasília Eles investigadores chegam a dizer Ah se o Lula não for candidato ele não vai ter força como cabo eleitoral Testem completou o petista  Para o expresidente Moro usou mentiras contadas pela Polícia Federal e pelo Ministério Público para julgálo e condenálo a nove anos e seis meses de prisão pelo caso do tríplex em Guarujá SP  O expresidente disse ainda não ter medo dos investigadores que de acordo com ele estão acostumados a mexer com deputados e senadores que temem as apurações  Eu quero que eles saibam o seguinte se eles estão acostumados a lidar com deputado que tem medo deles a mexer com senadores que têm medo deles quero dizer que tenho respeito profundo por quem me respeita pelas leis que nós ajudamos a criar mas não tenho respeito por quem não me respeita e eles não me respeitaram afirmou o petista    De acordo com aliados Lula não gosta de discutir mesmo que nos bastidores a chance de não ser candidato ao Planalto e a projeção do nome de Haddad como plano B do PT tem incomodado os mais próximos ao expresidente O exprefeito que estava no evento nesta segunda fez um discurso rápido de menos de dez minutos em que encerrou dizendo esperar que Lula assuma a Presidência em   Espero que dia º de janeiro de  esse pesadelo chamado Temer acabe e o senhor assuma a Presidência da República disse Haddad  DEMÔNIO DO MERCADO  Lula voltou a fazer um discurso mais agressivo em relação ao mercado e disse que não tem cara de demônio mas quer que o respeitem como se fosse  Não tenho cara de demônio mas quero que eles me respeitem como se eu fosse porque eles sabem que a economia não vai ficar subordinada ao elitismo da sociedade brasileira disse o expresidente  O petista rivalizou ainda com o deputado Jair Bolsonaro PSCRJ segundo colocado nas últimas pesquisas empatado com Marina Silva e disse que se ele agrada ao mercado o PT tem que desagradar  A Folha publicou nesta segunda  reportagem em que mostrou que o deputado ensaia movimento ao centro no debate econômico adotando um discurso simpático aos investidores do mercado financeiro\n"
     ]
    }
   ],
   "source": [
    "s = \"This must not be deleted, but the number at the end yes 134411\"\n",
    "s = re.sub(\"\\d+\", \"\", text)\n",
    "print( s)"
   ]
  },
  {
   "cell_type": "code",
   "execution_count": 47,
   "metadata": {},
   "outputs": [],
   "source": []
  },
  {
   "cell_type": "code",
   "execution_count": 63,
   "metadata": {},
   "outputs": [
    {
     "name": "stdout",
     "output_type": "stream",
     "text": [
      "46.6 µs ± 610 ns per loop (mean ± std. dev. of 7 runs, 10000 loops each)\n"
     ]
    }
   ],
   "source": [
    "%%timeit\n",
    "re.sub(\"\\d+\", \"\", text)"
   ]
  },
  {
   "cell_type": "code",
   "execution_count": 64,
   "metadata": {},
   "outputs": [
    {
     "name": "stdout",
     "output_type": "stream",
     "text": [
      "45.2 µs ± 107 ns per loop (mean ± std. dev. of 7 runs, 10000 loops each)\n"
     ]
    }
   ],
   "source": [
    "%%timeit\n",
    "pattern2.sub('', text)"
   ]
  },
  {
   "cell_type": "code",
   "execution_count": 60,
   "metadata": {},
   "outputs": [
    {
     "data": {
      "text/plain": [
       "'Lula diz que está lascado mas que ainda tem força como cabo eleitoral Com a possibilidade de uma condenação impedir sua candidatura em  o expresidente Luiz Inácio Lula da Silva fez nesta segunda  um discurso inflamado contra a Lava Jato no qual disse saber que está lascado exigiu um pedido de desculpas do juiz Sergio Moro e afirmou que mesmo fora da disputa pelo Planalto será um cabo eleitoral expressivo para a sucessão de Michel Temer  Segundo o petista réu em sete ações penais o objetivo de Moro é impedir sua candidatura no ano que vem desidratandoo inclusive no apoio a um nome alternativo como o do exprefeito de São Paulo Fernando Haddad PT caso ele não possa concorrer à Presidência  Eu sei que tô lascado todo dia tem um processo Eu não quero nem que Moro me absolva eu só quero que ele peça desculpas disse Lula durante um seminário sobre educação em Brasília Eles investigadores chegam a dizer Ah se o Lula não for candidato ele não vai ter força como cabo eleitoral Testem completou o petista  Para o expresidente Moro usou mentiras contadas pela Polícia Federal e pelo Ministério Público para julgálo e condenálo a nove anos e seis meses de prisão pelo caso do tríplex em Guarujá SP  O expresidente disse ainda não ter medo dos investigadores que de acordo com ele estão acostumados a mexer com deputados e senadores que temem as apurações  Eu quero que eles saibam o seguinte se eles estão acostumados a lidar com deputado que tem medo deles a mexer com senadores que têm medo deles quero dizer que tenho respeito profundo por quem me respeita pelas leis que nós ajudamos a criar mas não tenho respeito por quem não me respeita e eles não me respeitaram afirmou o petista    De acordo com aliados Lula não gosta de discutir mesmo que nos bastidores a chance de não ser candidato ao Planalto e a projeção do nome de Haddad como plano B do PT tem incomodado os mais próximos ao expresidente O exprefeito que estava no evento nesta segunda fez um discurso rápido de menos de dez minutos em que encerrou dizendo esperar que Lula assuma a Presidência em   Espero que dia º de janeiro de  esse pesadelo chamado Temer acabe e o senhor assuma a Presidência da República disse Haddad  DEMÔNIO DO MERCADO  Lula voltou a fazer um discurso mais agressivo em relação ao mercado e disse que não tem cara de demônio mas quer que o respeitem como se fosse  Não tenho cara de demônio mas quero que eles me respeitem como se eu fosse porque eles sabem que a economia não vai ficar subordinada ao elitismo da sociedade brasileira disse o expresidente  O petista rivalizou ainda com o deputado Jair Bolsonaro PSCRJ segundo colocado nas últimas pesquisas empatado com Marina Silva e disse que se ele agrada ao mercado o PT tem que desagradar  A Folha publicou nesta segunda  reportagem em que mostrou que o deputado ensaia movimento ao centro no debate econômico adotando um discurso simpático aos investidores do mercado financeiro'"
      ]
     },
     "execution_count": 60,
     "metadata": {},
     "output_type": "execute_result"
    }
   ],
   "source": [
    "pattern2.sub('', text)"
   ]
  },
  {
   "cell_type": "code",
   "execution_count": null,
   "metadata": {},
   "outputs": [],
   "source": [
    "pattern2.sub(lambda m: rep[re.escape(m.group(0))], text)"
   ]
  },
  {
   "cell_type": "code",
   "execution_count": 55,
   "metadata": {},
   "outputs": [
    {
     "data": {
      "text/plain": [
       "\u001b[0;31mType:\u001b[0m        Pattern\n",
       "\u001b[0;31mString form:\u001b[0m re.compile('\\\\d+')\n",
       "\u001b[0;31mFile:\u001b[0m        ~/anaconda3/envs/politics_cleaner/lib/python3.8/re.py\n",
       "\u001b[0;31mDocstring:\u001b[0m   Compiled regular expression object.\n"
      ]
     },
     "metadata": {},
     "output_type": "display_data"
    }
   ],
   "source": [
    "pattern2?"
   ]
  },
  {
   "cell_type": "code",
   "execution_count": 58,
   "metadata": {},
   "outputs": [
    {
     "data": {
      "text/plain": [
       "['2018', '9', '2019', '1', '2019', '9']"
      ]
     },
     "execution_count": 58,
     "metadata": {},
     "output_type": "execute_result"
    }
   ],
   "source": [
    "pattern2.findall(text)"
   ]
  },
  {
   "cell_type": "code",
   "execution_count": 49,
   "metadata": {},
   "outputs": [],
   "source": [
    "pattern2 = re.compile(\"\\d+\")"
   ]
  },
  {
   "cell_type": "code",
   "execution_count": 53,
   "metadata": {},
   "outputs": [
    {
     "ename": "TypeError",
     "evalue": "sub() missing required argument 'string' (pos 2)",
     "output_type": "error",
     "traceback": [
      "\u001b[0;31m---------------------------------------------------------------------------\u001b[0m",
      "\u001b[0;31mTypeError\u001b[0m                                 Traceback (most recent call last)",
      "\u001b[0;32m<ipython-input-53-249a84aad7c5>\u001b[0m in \u001b[0;36m<module>\u001b[0;34m\u001b[0m\n\u001b[1;32m      1\u001b[0m \u001b[0;31m#pattern2 = re.compile(\"\\d+\")\u001b[0m\u001b[0;34m\u001b[0m\u001b[0;34m\u001b[0m\u001b[0;34m\u001b[0m\u001b[0m\n\u001b[0;32m----> 2\u001b[0;31m \u001b[0mtext\u001b[0m \u001b[0;34m=\u001b[0m \u001b[0mpattern2\u001b[0m\u001b[0;34m.\u001b[0m\u001b[0msub\u001b[0m\u001b[0;34m(\u001b[0m\u001b[0mtext\u001b[0m\u001b[0;34m)\u001b[0m\u001b[0;34m\u001b[0m\u001b[0;34m\u001b[0m\u001b[0m\n\u001b[0m",
      "\u001b[0;31mTypeError\u001b[0m: sub() missing required argument 'string' (pos 2)"
     ]
    }
   ],
   "source": [
    "#pattern2 = re.compile(\"\\d+\")\n",
    "text = pattern2.sub(text)"
   ]
  },
  {
   "cell_type": "code",
   "execution_count": null,
   "metadata": {},
   "outputs": [],
   "source": [
    "text = articles_text[0]\n",
    "pont_chars = string.punctuation\n",
    "pont = dict(zip(pont_chars, [''] * len(pont_chars)))\n",
    "pont = dict((re.escape(k), v) for k, v in pont.items()) \n",
    "pattern = re.compile(\"|\".join(pont.keys()))\n",
    "text = pattern.sub(lambda m: pont[re.escape(m.group(0))], text)"
   ]
  },
  {
   "cell_type": "code",
   "execution_count": null,
   "metadata": {},
   "outputs": [],
   "source": []
  },
  {
   "cell_type": "code",
   "execution_count": null,
   "metadata": {},
   "outputs": [],
   "source": []
  },
  {
   "cell_type": "code",
   "execution_count": null,
   "metadata": {},
   "outputs": [],
   "source": []
  },
  {
   "cell_type": "code",
   "execution_count": null,
   "metadata": {},
   "outputs": [],
   "source": [
    "def bag_of_words(data_path, columns, name_bow_model = 'unigram',  save_tf=True, save_tfidf=False, \n",
    "                 ngram_range=(1,1), max_features=100000, min_df=15, max_df=0.5):\n",
    "    '''\n",
    "    Build term count matrices by bag of words (TF e TFIDF)\n",
    "\n",
    "    Parameters\n",
    "    ----------   \n",
    "    \n",
    "        data_path (str): path of text file in data directory.\n",
    "        columns (str): list of strings with the name of the text columns that will be concatenated to generate the documents.\n",
    "        name_bow_model (str): BoW model name that will name the output file.\n",
    "        save_tf (bool) = if True, build and saves the term frequency matrix. \n",
    "        save_tfdf (bool) = if True, build and saves the tfidf matrix.\n",
    "\n",
    "    '''\n",
    "\n",
    "    start  = time.time()\n",
    "    if not os.path.exists('models/'):\n",
    "        os.makedirs('models')\n",
    "    \n",
    "    data = pd.read_parquet(data_path) \n",
    "    data['text'] = data[columns].apply(lambda x: ' '.join(x), axis=1)\n",
    "\n",
    "    tf_vectorizer  = CountVectorizer(ngram_range=ngram_range, min_df=min_df, max_df=max_df, max_features=max_features, lowercase=False)\n",
    "    tf_matrix    = tf_vectorizer.fit_transform(data.text)\n",
    "    if save_tf: save_npz(f'models/tf_{name_bow_model}.npz',  tf_matrix)\n",
    "\n",
    "    if save_tfidf:\n",
    "        tfidf_transform = TfidfTransformer(norm='l2', use_idf=True, smooth_idf=True, sublinear_tf=False)\n",
    "        tfidf_matrix = tfidf_transform.fit_transform(tf_matrix)\n",
    "        save_npz(f'models/tfidf_{name_bow_model}.npz', tfidf_matrix)\n",
    "    \n",
    "    vocabulary = pd.Series(tf_vectorizer.get_feature_names())\n",
    "    vocabulary.rename('ngrams').to_csv(f\"models/vocabulary_{name_bow_model}.csv\", index=False)\n",
    "\n",
    "    print(\"Builder TFIDF Elapsed time: {:.2f} seconds\".format(time.time() - start))\n"
   ]
  }
 ],
 "metadata": {
  "kernelspec": {
   "display_name": "politics_cleaner",
   "language": "python",
   "name": "politics_cleaner"
  },
  "language_info": {
   "codemirror_mode": {
    "name": "ipython",
    "version": 3
   },
   "file_extension": ".py",
   "mimetype": "text/x-python",
   "name": "python",
   "nbconvert_exporter": "python",
   "pygments_lexer": "ipython3",
   "version": "3.8.8"
  }
 },
 "nbformat": 4,
 "nbformat_minor": 4
}
